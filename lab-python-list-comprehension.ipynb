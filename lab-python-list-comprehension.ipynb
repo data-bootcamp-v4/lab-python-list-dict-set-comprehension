{
 "cells": [
  {
   "cell_type": "markdown",
   "id": "25d7736c-ba17-4aff-b6bb-66eba20fbf4e",
   "metadata": {},
   "source": [
    "# Lab | List, Dict and Set Comprehension"
   ]
  },
  {
   "cell_type": "markdown",
   "id": "7dd3cbde-675a-4b81-92c3-f728846dbe06",
   "metadata": {},
   "source": [
    "## Exercise: Managing Customer Orders Optimized with Comprehension"
   ]
  },
  {
   "cell_type": "markdown",
   "id": "5d500160-2fb7-4777-b5e4-09d45ebaf328",
   "metadata": {},
   "source": [
    "In the previous exercise, you developed a program to manage customer orders and inventory. Now, let's take it a step further and incorporate comprehension into your code.\n",
    "\n",
    "Follow the steps below to complete the exercise:\n",
    "\n",
    "1. Review your code from the previous exercise and identify areas where you can apply comprehension to simplify and streamline your code. \n",
    "\n",
    "    - *Hint: Apply it to initialize inventory, updating the inventory and printing the updated inventory.*\n",
    "    \n",
    "    - For example, in initializing the inventory, we could have:\n",
    "    \n",
    "        ```python\n",
    "        def initialize_inventory(products):\n",
    "            inventory = {product: int(input(f\"Enter the quantity of {product}s available: \")) for product in products}\n",
    "            return inventory\n",
    "\n",
    "        ```\n",
    "<br>\n",
    "    \n",
    "    \n",
    "2. Modify the function get_customer_orders so it prompts the user to enter the number of customer orders and gathers the product names using a loop and user input. Use comprehension.\n",
    "\n",
    "3. Add a new function to calculate the total price of the customer order. For each product in customer_orders, prompt the user to enter the price of that product. Use comprehension to calculate the total price. Note: assume that the user can only have 1 unit of each product.\n",
    "\n",
    "4. Modify the update_inventory function to remove the product from the inventory if its quantity becomes zero after fulfilling the customer orders. Use comprehension to filter out the products with a quantity of zero from the inventory.\n",
    "\n",
    "5. Print the total price of the customer order.\n",
    "\n",
    "Your code should produce output similar to the following:\n",
    "\n",
    "```python\n",
    "Enter the quantity of t-shirts available:  5\n",
    "Enter the quantity of mugs available:  4\n",
    "Enter the quantity of hats available:  3\n",
    "Enter the quantity of books available:  2\n",
    "Enter the quantity of keychains available:  1\n",
    "Enter the number of customer orders:  2\n",
    "Enter the name of a product that a customer wants to order:  hat\n",
    "Enter the name of a product that a customer wants to order:  keychain\n",
    "\n",
    "Order Statistics:\n",
    "Total Products Ordered: 2\n",
    "Percentage of Unique Products Ordered: 40.0\n",
    "\n",
    "Updated Inventory:\n",
    "t-shirt: 5\n",
    "mug: 4\n",
    "hat: 2\n",
    "book: 2\n",
    "Enter the price of keychain:  5\n",
    "Enter the price of hat:  10\n",
    "Total Price: 15.0\n",
    "\n",
    "```\n"
   ]
  },
  {
   "cell_type": "code",
   "execution_count": 77,
   "id": "0001cf30",
   "metadata": {},
   "outputs": [],
   "source": [
    "def initialize_inventory (products):\n",
    "    inventory = {product: int(input(\"Enter the quantity of the product: \")) for product in products}\n",
    "    return inventory\n",
    "\n",
    "def get_customer_orders ():\n",
    "    number_orders = int(input(f\"Enter the number of customer orders: \"))\n",
    "    customer_orders = {input(f\"Enter the product name: \") for i in range(number_orders)}\n",
    "    return customer_orders\n",
    "\n",
    "def update_inventory (customer_orders, inventory):\n",
    "    inventory = {product: inventory[product]-1 if product in inventory else inventory[product] for product in inventory}\n",
    "    filtered_inventory = {product: quantity for product, quantity in inventory.items() if quantity != 0}\n",
    "    return inventory\n",
    "    \n",
    "\n",
    "def calculate_order_statistics (customer_orders, products):\n",
    "    total_ordered = len(customer_orders)\n",
    "    unique_ordered = len(set(customer_orders))\n",
    "    percentage_unique = (unique_ordered / len(products)) * 100\n",
    "    return total_ordered, unique_ordered, percentage_unique\n",
    "\n",
    "def print_order_statistics (order_statistics, total_price):\n",
    "    total_ordered, unique_ordered, percentage_unique = order_statistics \n",
    "    print(f\"Total products ordered: {total_ordered}\")\n",
    "    print(f\"Unique products ordered: {unique_ordered}\")\n",
    "    print(f\"Percentage of unique products ordered: {percentage_unique:.2f}%\")\n",
    "    print(\"The total price is: \", total_price)\n",
    "\n",
    "\n",
    "def print_updated_inventory (inventory):\n",
    "    print(\"Updated Inventory:\")\n",
    "    print(\"\\n\".join(f\"{product}: {quantity}\" for product, quantity in inventory.items()))\n",
    "\n",
    "def total_price(customer_orders):\n",
    "    prices = {product: float(input(f\"Enter the price of {product}: \")) for product in customer_orders}\n",
    "    total_price = sum(prices.values())  # Sum the values (prices) of the 'prices' dictionary.\n",
    "    return total_price\n",
    "        "
   ]
  },
  {
   "cell_type": "code",
   "execution_count": 80,
   "id": "902c8862",
   "metadata": {},
   "outputs": [],
   "source": [
    "products = [\"a\",\"b\",\"c\"]\n",
    "\n",
    "inventory = initialize_inventory (products)\n",
    "\n",
    "\n"
   ]
  },
  {
   "cell_type": "code",
   "execution_count": 81,
   "id": "5cb2e21c",
   "metadata": {},
   "outputs": [
    {
     "name": "stdout",
     "output_type": "stream",
     "text": [
      "{'a': 2, 'b': 3, 'c': 4}\n"
     ]
    }
   ],
   "source": [
    "print(inventory)"
   ]
  },
  {
   "cell_type": "code",
   "execution_count": 82,
   "id": "a4bf6aae",
   "metadata": {},
   "outputs": [],
   "source": [
    "customer_orders = get_customer_orders()\n"
   ]
  },
  {
   "cell_type": "code",
   "execution_count": 83,
   "id": "6f4bf2f7",
   "metadata": {},
   "outputs": [],
   "source": [
    "\n",
    "inventory = update_inventory (customer_orders, inventory)\n"
   ]
  },
  {
   "cell_type": "code",
   "execution_count": 84,
   "id": "a7284413",
   "metadata": {},
   "outputs": [
    {
     "name": "stdout",
     "output_type": "stream",
     "text": [
      "{'a': 1, 'b': 2, 'c': 3}\n"
     ]
    }
   ],
   "source": [
    "print(inventory)"
   ]
  },
  {
   "cell_type": "code",
   "execution_count": 85,
   "id": "c06f18c2",
   "metadata": {},
   "outputs": [],
   "source": [
    "order_statistics = calculate_order_statistics (customer_orders, inventory)"
   ]
  },
  {
   "cell_type": "code",
   "execution_count": 86,
   "id": "5f403f1e",
   "metadata": {},
   "outputs": [],
   "source": [
    "total_price = total_price(customer_orders)\n"
   ]
  },
  {
   "cell_type": "code",
   "execution_count": 87,
   "id": "3f1bf023",
   "metadata": {},
   "outputs": [
    {
     "name": "stdout",
     "output_type": "stream",
     "text": [
      "Total products ordered: 2\n",
      "Unique products ordered: 2\n",
      "Percentage of unique products ordered: 66.67%\n",
      "The total price is:  7.0\n"
     ]
    }
   ],
   "source": [
    "print_order_statistics (order_statistics, total_price)"
   ]
  },
  {
   "cell_type": "code",
   "execution_count": 91,
   "id": "119c460f",
   "metadata": {},
   "outputs": [
    {
     "name": "stdout",
     "output_type": "stream",
     "text": [
      "Updated Inventory:\n",
      "a: 1\n",
      "b: 2\n",
      "c: 3\n",
      "7.0\n"
     ]
    }
   ],
   "source": [
    "print_updated_inventory (inventory)"
   ]
  },
  {
   "cell_type": "code",
   "execution_count": null,
   "metadata": {},
   "outputs": [],
   "source": []
  }
 ],
 "metadata": {
  "kernelspec": {
   "display_name": "Python 3 (ipykernel)",
   "language": "python",
   "name": "python3"
  },
  "language_info": {
   "codemirror_mode": {
    "name": "ipython",
    "version": 3
   },
   "file_extension": ".py",
   "mimetype": "text/x-python",
   "name": "python",
   "nbconvert_exporter": "python",
   "pygments_lexer": "ipython3",
   "version": "3.10.11"
  }
 },
 "nbformat": 4,
 "nbformat_minor": 5
}
