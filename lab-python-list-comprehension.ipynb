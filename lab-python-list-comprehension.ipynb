{
 "cells": [
  {
   "cell_type": "markdown",
   "id": "25d7736c-ba17-4aff-b6bb-66eba20fbf4e",
   "metadata": {},
   "source": [
    "# Lab | List, Dict and Set Comprehension"
   ]
  },
  {
   "cell_type": "markdown",
   "id": "7dd3cbde-675a-4b81-92c3-f728846dbe06",
   "metadata": {},
   "source": [
    "## Exercise: Managing Customer Orders Optimized with Comprehension"
   ]
  },
  {
   "cell_type": "markdown",
   "id": "5d500160-2fb7-4777-b5e4-09d45ebaf328",
   "metadata": {},
   "source": [
    "In the previous exercise, you developed a program to manage customer orders and inventory. Now, let's take it a step further and incorporate comprehension into your code.\n",
    "\n",
    "Follow the steps below to complete the exercise:\n",
    "\n",
    "1. Review your code from the previous exercise and identify areas where you can apply comprehension to simplify and streamline your code. \n",
    "\n",
    "    - *Hint: Apply it to initialize inventory, updating the inventory and printing the updated inventory.*\n",
    "    \n",
    "    - For example, in initializing the inventory, we could have:\n",
    "    \n",
    "        ```python\n",
    "        def initialize_inventory(products):\n",
    "            inventory = {product: int(input(f\"Enter the quantity of {product}s available: \")) for product in products}\n",
    "            return inventory\n",
    "\n",
    "        ```\n",
    "<br>\n",
    "    \n",
    "    \n",
    "2. Modify the function get_customer_orders so it prompts the user to enter the number of customer orders and gathers the product names using a loop and user input. Use comprehension.\n",
    "\n",
    "3. Add a new function to calculate the total price of the customer order. For each product in customer_orders, prompt the user to enter the price of that product. Use comprehension to calculate the total price. Note: assume that the user can only have 1 unit of each product.\n",
    "\n",
    "4. Modify the update_inventory function to remove the product from the inventory if its quantity becomes zero after fulfilling the customer orders. Use comprehension to filter out the products with a quantity of zero from the inventory.\n",
    "\n",
    "5. Print the total price of the customer order.\n",
    "\n",
    "Your code should produce output similar to the following:\n",
    "\n",
    "```python\n",
    "Enter the quantity of t-shirts available:  5\n",
    "Enter the quantity of mugs available:  4\n",
    "Enter the quantity of hats available:  3\n",
    "Enter the quantity of books available:  2\n",
    "Enter the quantity of keychains available:  1\n",
    "Enter the number of customer orders:  2\n",
    "Enter the name of a product that a customer wants to order:  hat\n",
    "Enter the name of a product that a customer wants to order:  keychain\n",
    "\n",
    "Order Statistics:\n",
    "Total Products Ordered: 2\n",
    "Percentage of Unique Products Ordered: 40.0\n",
    "\n",
    "Updated Inventory:\n",
    "t-shirt: 5\n",
    "mug: 4\n",
    "hat: 2\n",
    "book: 2\n",
    "Enter the price of keychain:  5\n",
    "Enter the price of hat:  10\n",
    "Total Price: 15.0\n",
    "\n",
    "```\n"
   ]
  },
  {
   "cell_type": "code",
   "execution_count": 8,
   "id": "bab16fbd",
   "metadata": {},
   "outputs": [],
   "source": [
    "def initialize_inventory(products):\n",
    "    inventory = {product: int(input(f\"Input the quantity of {product}\")) for product in products}\n",
    "    return inventory\n"
   ]
  },
  {
   "cell_type": "code",
   "execution_count": 12,
   "id": "62339764",
   "metadata": {},
   "outputs": [],
   "source": [
    "products = [\"t-shirt\", \"mug\", \"hat\", \"book\", \"keychain\"]\n",
    "inventory = initialize_inventory(products)"
   ]
  },
  {
   "cell_type": "code",
   "execution_count": 26,
   "id": "9c8a0306",
   "metadata": {},
   "outputs": [],
   "source": [
    "inventory\n",
    "customer_orders = {'keychain', 'hat', 'mug'}"
   ]
  },
  {
   "cell_type": "code",
   "execution_count": 29,
   "id": "69c0a4b4",
   "metadata": {},
   "outputs": [],
   "source": [
    "def update_inventory(customer_orders, inventory):\n",
    "    new_inventory = {product: quantity -1 if product in customer_orders else quantity for product, quantity in inventory.items()}\n",
    "    return new_inventory \n",
    "\n",
    "\n"
   ]
  },
  {
   "cell_type": "code",
   "execution_count": 30,
   "id": "3e481d47",
   "metadata": {},
   "outputs": [
    {
     "data": {
      "text/plain": [
       "{'t-shirt': 10, 'mug': 9, 'hat': 9, 'book': 10, 'keychain': 9}"
      ]
     },
     "execution_count": 30,
     "metadata": {},
     "output_type": "execute_result"
    }
   ],
   "source": [
    "updated_inventory = update_inventory(customer_orders, inventory)\n",
    "updated_inventory"
   ]
  },
  {
   "cell_type": "code",
   "execution_count": 40,
   "id": "e827d66f",
   "metadata": {},
   "outputs": [],
   "source": [
    "#I did this one without a for-loop in the previous assignment, maybe I should still do that idk. Will fix tomorrow\n",
    "\n",
    "def print_updated_inventory(inventory):\n",
    "    new_inventory = {print(f\"{product}: {quantity}\") for product, quantity in inventory.items()}\n"
   ]
  },
  {
   "cell_type": "code",
   "execution_count": 41,
   "id": "65859abf",
   "metadata": {},
   "outputs": [
    {
     "name": "stdout",
     "output_type": "stream",
     "text": [
      "t-shirt: 10\n",
      "mug: 9\n",
      "hat: 9\n",
      "book: 10\n",
      "keychain: 9\n"
     ]
    }
   ],
   "source": [
    "print_updated_inventory(updated_inventory)"
   ]
  },
  {
   "cell_type": "markdown",
   "id": "86f951dc",
   "metadata": {},
   "source": [
    "2. Modify the function get_customer_orders so it prompts the user to enter the number of customer orders and gathers the product names using a loop and user input. Use comprehension.\n"
   ]
  },
  {
   "cell_type": "code",
   "execution_count": 52,
   "id": "20e22524",
   "metadata": {},
   "outputs": [],
   "source": [
    "def get_customer_orders():\n",
    "    amount = int(input(\"How many products do you want to order?\"))\n",
    "    customer_orders = {input(\"What product do you want to order?\") for i in range(amount)}\n",
    "    return customer_orders"
   ]
  },
  {
   "cell_type": "code",
   "execution_count": 53,
   "id": "8fffec14",
   "metadata": {},
   "outputs": [],
   "source": [
    "#@TA i can't figure out how to use comprehension to tell the user they cant order products which are unavailable, like 'test' or smth\n",
    "order_list = get_customer_orders()"
   ]
  },
  {
   "cell_type": "code",
   "execution_count": 54,
   "id": "a9df2e94",
   "metadata": {},
   "outputs": [
    {
     "name": "stdout",
     "output_type": "stream",
     "text": [
      "{'test', 'hat', 'keychain'}\n"
     ]
    }
   ],
   "source": [
    "print(order_list)"
   ]
  },
  {
   "cell_type": "code",
   "execution_count": 55,
   "id": "fcd96e0e",
   "metadata": {},
   "outputs": [
    {
     "data": {
      "text/plain": [
       "set"
      ]
     },
     "execution_count": 55,
     "metadata": {},
     "output_type": "execute_result"
    }
   ],
   "source": [
    "type(order_list)"
   ]
  },
  {
   "cell_type": "markdown",
   "id": "d7f6abc0",
   "metadata": {},
   "source": [
    "3. Add a new function to calculate the total price of the customer order. For each product in customer_orders, prompt the user to enter the price of that product. Use comprehension to calculate the total price. Note: assume that the user can only have 1 unit of each product.\n",
    "\n"
   ]
  },
  {
   "cell_type": "code",
   "execution_count": 67,
   "id": "67417af9",
   "metadata": {},
   "outputs": [],
   "source": [
    "def calculate_customer_order(customer_orders):\n",
    "    total_cost = 0 \n",
    "    for product in customer_orders:\n",
    "        price = int(input(f\"What price do you want to pay for {product}?\"))\n",
    "#the assignment says to use comprehension to calculate the total price but i cant see how it would work and be more readable and clean :(\n",
    "        total_cost += price\n",
    "    return total_cost"
   ]
  },
  {
   "cell_type": "code",
   "execution_count": 66,
   "id": "4fea02d0",
   "metadata": {},
   "outputs": [
    {
     "data": {
      "text/plain": [
       "24"
      ]
     },
     "execution_count": 66,
     "metadata": {},
     "output_type": "execute_result"
    }
   ],
   "source": [
    "calculate_customer_order(customer_orders)\n",
    "\n"
   ]
  },
  {
   "cell_type": "markdown",
   "id": "f3fe8e15",
   "metadata": {},
   "source": [
    "4. Modify the update_inventory function to remove the product from the inventory if its quantity becomes zero after fulfilling the customer orders. Use comprehension to filter out the products with a quantity of zero from the inventory."
   ]
  },
  {
   "cell_type": "code",
   "execution_count": 69,
   "id": "5179e318",
   "metadata": {},
   "outputs": [],
   "source": [
    "def update_inventory(customer_orders, inventory):\n",
    "    new_inventory = {product: quantity -1 if product in customer_orders and quantity > 0 else quantity for product, quantity in inventory.items()}\n",
    "    return new_inventory "
   ]
  },
  {
   "cell_type": "code",
   "execution_count": 73,
   "id": "85c14e18",
   "metadata": {},
   "outputs": [
    {
     "data": {
      "text/plain": [
       "{'t-shirt': 10, 'mug': 9, 'hat': 9, 'book': 10, 'keychain': 9}"
      ]
     },
     "execution_count": 73,
     "metadata": {},
     "output_type": "execute_result"
    }
   ],
   "source": [
    "new_invo = update_inventory(customer_orders, inventory)\n",
    "new_invo"
   ]
  },
  {
   "cell_type": "markdown",
   "id": "524bdbb7",
   "metadata": {},
   "source": [
    "5. Print the total price of the customer order."
   ]
  },
  {
   "cell_type": "code",
   "execution_count": 75,
   "id": "acf488d5",
   "metadata": {},
   "outputs": [
    {
     "data": {
      "text/plain": [
       "30"
      ]
     },
     "execution_count": 75,
     "metadata": {},
     "output_type": "execute_result"
    }
   ],
   "source": [
    "costs = calculate_customer_order(customer_orders)\n",
    "costs"
   ]
  },
  {
   "cell_type": "code",
   "execution_count": 77,
   "id": "d5155b79",
   "metadata": {},
   "outputs": [],
   "source": [
    "#I gotta say this is by far the hardest lap until now. It takes me a very long time, researching and stuff to figure -\n",
    "#out how to comprehend things. I feel like i always know how to make the loops; but i need more practice with comprehending them\n",
    "#i guess it will come with time. Well I hope so"
   ]
  }
 ],
 "metadata": {
  "kernelspec": {
   "display_name": "Python 3 (ipykernel)",
   "language": "python",
   "name": "python3"
  },
  "language_info": {
   "codemirror_mode": {
    "name": "ipython",
    "version": 3
   },
   "file_extension": ".py",
   "mimetype": "text/x-python",
   "name": "python",
   "nbconvert_exporter": "python",
   "pygments_lexer": "ipython3",
   "version": "3.10.9"
  }
 },
 "nbformat": 4,
 "nbformat_minor": 5
}
