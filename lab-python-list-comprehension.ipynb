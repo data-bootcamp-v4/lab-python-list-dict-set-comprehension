{
 "cells": [
  {
   "cell_type": "markdown",
   "id": "25d7736c-ba17-4aff-b6bb-66eba20fbf4e",
   "metadata": {},
   "source": [
    "# Lab | List, Dict and Set Comprehension"
   ]
  },
  {
   "cell_type": "markdown",
   "id": "7dd3cbde-675a-4b81-92c3-f728846dbe06",
   "metadata": {},
   "source": [
    "## Exercise: Managing Customer Orders Optimized with Comprehension"
   ]
  },
  {
   "cell_type": "markdown",
   "id": "5d500160-2fb7-4777-b5e4-09d45ebaf328",
   "metadata": {},
   "source": [
    "In the previous exercise, you developed a program to manage customer orders and inventory. Now, let's take it a step further and incorporate comprehension into your code.\n",
    "\n",
    "Follow the steps below to complete the exercise:\n",
    "\n",
    "1. Review your code from the previous exercise and identify areas where you can apply comprehension to simplify and streamline your code. \n",
    "\n",
    "    - *Hint: Apply it to initialize inventory, updating the inventory and printing the updated inventory.*\n",
    "    \n",
    "    - For example, in initializing the inventory, we could have:\n",
    "    \n",
    "        ```python\n",
    "        def initialize_inventory(products):\n",
    "            inventory = {product: int(input(f\"Enter the quantity of {product}s available: \")) for product in products}\n",
    "            return inventory\n",
    "\n",
    "        ```\n",
    "<br>\n",
    "    \n",
    "    \n",
    "2. Modify the function get_customer_orders so it prompts the user to enter the number of customer orders and gathers the product names using a loop and user input. Use comprehension.\n",
    "\n",
    "3. Add a new function to calculate the total price of the customer order. For each product in customer_orders, prompt the user to enter the price of that product. Use comprehension to calculate the total price. Note: assume that the user can only have 1 unit of each product.\n",
    "\n",
    "4. Modify the update_inventory function to remove the product from the inventory if its quantity becomes zero after fulfilling the customer orders. Use comprehension to filter out the products with a quantity of zero from the inventory.\n",
    "\n",
    "5. Print the total price of the customer order.\n",
    "\n",
    "Your code should produce output similar to the following:\n",
    "\n",
    "```python\n",
    "Enter the quantity of t-shirts available:  5\n",
    "Enter the quantity of mugs available:  4\n",
    "Enter the quantity of hats available:  3\n",
    "Enter the quantity of books available:  2\n",
    "Enter the quantity of keychains available:  1\n",
    "Enter the number of customer orders:  2\n",
    "Enter the name of a product that a customer wants to order:  hat\n",
    "Enter the name of a product that a customer wants to order:  keychain\n",
    "\n",
    "Order Statistics:\n",
    "Total Products Ordered: 2\n",
    "Percentage of Unique Products Ordered: 40.0\n",
    "\n",
    "Updated Inventory:\n",
    "t-shirt: 5\n",
    "mug: 4\n",
    "hat: 2\n",
    "book: 2\n",
    "Enter the price of keychain:  5\n",
    "Enter the price of hat:  10\n",
    "Total Price: 15.0\n",
    "\n",
    "```\n"
   ]
  },
  {
   "cell_type": "code",
   "execution_count": 27,
   "id": "7ba780d6",
   "metadata": {},
   "outputs": [],
   "source": [
    "products = ['t-shirt', 'mug', 'hat', \"book\", \"keychain\"]\n",
    "def initialize_inventory(products):\n",
    "    inventory = {product: int(input(f\"How many {product}'s are avaliable?\")) for product in products}\n",
    "    return inventory"
   ]
  },
  {
   "cell_type": "code",
   "execution_count": 28,
   "id": "73b61d76",
   "metadata": {},
   "outputs": [],
   "source": [
    "customer_orders = set()\n",
    "def get_customer_order():\n",
    "    items = int(input(\"Enter the number of customer orders:\"))\n",
    "    order = (input(\"Enter the name of the product that a costumer wants to order\") for i in range(items))\n",
    "    customer_orders = set(order)   \n",
    "    return customer_orders"
   ]
  },
  {
   "cell_type": "code",
   "execution_count": 29,
   "id": "17afa16b",
   "metadata": {},
   "outputs": [],
   "source": [
    "def calculate_total_price():\n",
    "    prices = {product: int(input(f\"Put the price for {product}\")) for product in customer_orders}\n",
    "    total = (sum(prices.values()))\n",
    "    return (f\"total price is {total}\")"
   ]
  },
  {
   "cell_type": "code",
   "execution_count": 30,
   "id": "dcf2abbe",
   "metadata": {},
   "outputs": [],
   "source": [
    "def update_inventory(customer_orders,inventory):\n",
    "    for product in inventory:\n",
    "        if product in customer_orders:\n",
    "            inventory[product] -= 1\n",
    "    clear = [clear for clear in list(inventory) if inventory[clear] == 0 ]\n",
    "    for clean in clear:\n",
    "        del inventory[clean]\n",
    "    return inventory"
   ]
  },
  {
   "cell_type": "code",
   "execution_count": 31,
   "id": "f6b1207c",
   "metadata": {},
   "outputs": [],
   "source": [
    "def calculate_order_statistics(customer_orders,products):\n",
    "    total_prod = len(customer_orders)\n",
    "    unique_prod = 0\n",
    "    for i in customer_orders:\n",
    "        unique_prod += inventory[i]\n",
    "    inventory_stash = 0\n",
    "    for i in inventory:\n",
    "        inventory_stash += inventory[i]\n",
    "    percent = unique_prod/inventory_stash*100\n",
    "    percent = (round(percent,2))\n",
    "    return percent, unique_prod, total_prod"
   ]
  },
  {
   "cell_type": "code",
   "execution_count": 32,
   "id": "689c11d2",
   "metadata": {},
   "outputs": [],
   "source": [
    "def print_order_statistics(order_statistics):\n",
    "    total_prod = len(customer_orders)\n",
    "    unique_prod = 0\n",
    "    for i in customer_orders:\n",
    "        unique_prod += inventory[i]\n",
    "    inventory_stash = 0\n",
    "    for i in inventory:\n",
    "        inventory_stash += inventory[i]\n",
    "    percent = unique_prod/inventory_stash*100\n",
    "    percent = (round(percent,2))\n",
    "    print(f\"Order Statistics:\" '\\n'\n",
    "        'Total Products Ordered:' ,total_prod,'\\n'\n",
    "        'Unique Products Ordered:' ,unique_prod,'\\n'\n",
    "        'Percentage of Unique Products Ordered:' ,percent,'%')"
   ]
  },
  {
   "cell_type": "code",
   "execution_count": 33,
   "id": "6104847e",
   "metadata": {},
   "outputs": [
    {
     "name": "stdout",
     "output_type": "stream",
     "text": [
      "Order Statistics:\n",
      "Total Products Ordered: 0 \n",
      "Unique Products Ordered: 0 \n",
      "Percentage of Unique Products Ordered: 0.0 %\n"
     ]
    },
    {
     "data": {
      "text/plain": [
       "'total price is 0'"
      ]
     },
     "execution_count": 33,
     "metadata": {},
     "output_type": "execute_result"
    }
   ],
   "source": [
    "inventory = initialize_inventory(products)\n",
    "get_customer_order()\n",
    "order_statistics = calculate_order_statistics(customer_orders,inventory)\n",
    "print_order_statistics(order_statistics)\n",
    "update_inventory(customer_orders, inventory)\n",
    "calculate_total_price()"
   ]
  },
  {
   "cell_type": "code",
   "execution_count": 54,
   "id": "f06ad2e2",
   "metadata": {},
   "outputs": [
    {
     "data": {
      "text/plain": [
       "2"
      ]
     },
     "execution_count": 54,
     "metadata": {},
     "output_type": "execute_result"
    }
   ],
   "source": [
    "string = \"Hello World\"\n",
    "string.isupper()\n",
    "one = 0\n",
    "for i in range(len(string)):\n",
    "    if string[i].isupper():\n",
    "        one += 1\n",
    "one"
   ]
  },
  {
   "cell_type": "code",
   "execution_count": null,
   "id": "dfd3f644",
   "metadata": {},
   "outputs": [],
   "source": []
  }
 ],
 "metadata": {
  "kernelspec": {
   "display_name": "Python 3 (ipykernel)",
   "language": "python",
   "name": "python3"
  },
  "language_info": {
   "codemirror_mode": {
    "name": "ipython",
    "version": 3
   },
   "file_extension": ".py",
   "mimetype": "text/x-python",
   "name": "python",
   "nbconvert_exporter": "python",
   "pygments_lexer": "ipython3",
   "version": "3.10.9"
  }
 },
 "nbformat": 4,
 "nbformat_minor": 5
}
