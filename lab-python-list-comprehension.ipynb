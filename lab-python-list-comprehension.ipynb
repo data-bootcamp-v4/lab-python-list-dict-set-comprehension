{
 "cells": [
  {
   "cell_type": "markdown",
   "id": "25d7736c-ba17-4aff-b6bb-66eba20fbf4e",
   "metadata": {},
   "source": [
    "# Lab | List, Dict and Set Comprehension"
   ]
  },
  {
   "cell_type": "markdown",
   "id": "7dd3cbde-675a-4b81-92c3-f728846dbe06",
   "metadata": {},
   "source": [
    "## Exercise: Managing Customer Orders Optimized with Comprehension"
   ]
  },
  {
   "cell_type": "markdown",
   "id": "5d500160-2fb7-4777-b5e4-09d45ebaf328",
   "metadata": {},
   "source": [
    "In the previous exercise, you developed a program to manage customer orders and inventory. Now, let's take it a step further and incorporate comprehension into your code.\n",
    "\n",
    "Follow the steps below to complete the exercise:\n",
    "\n",
    "1. Review your code from the previous exercise and identify areas where you can apply comprehension to simplify and streamline your code. \n",
    "\n",
    "    - *Hint: Apply it to initialize inventory, updating the inventory and printing the updated inventory.*\n",
    "    \n",
    "    - For example, in initializing the inventory, we could have:\n",
    "    \n",
    "        ```python\n",
    "        def initialize_inventory(products):\n",
    "            inventory = {product: int(input(f\"Enter the quantity of {product}s available: \")) for product in products}\n",
    "            return inventory\n",
    "\n",
    "        ```\n",
    "<br>\n",
    "    \n",
    "    \n",
    "2. Modify the function get_customer_orders so it prompts the user to enter the number of customer orders and gathers the product names using a loop and user input. Use comprehension.\n",
    "\n",
    "3. Add a new function to calculate the total price of the customer order. For each product in customer_orders, prompt the user to enter the price of that product. Use comprehension to calculate the total price. Note: assume that the user can only have 1 unit of each product.\n",
    "\n",
    "4. Modify the update_inventory function to remove the product from the inventory if its quantity becomes zero after fulfilling the customer orders. Use comprehension to filter out the products with a quantity of zero from the inventory.\n",
    "\n",
    "5. Print the total price of the customer order.\n",
    "\n",
    "Your code should produce output similar to the following:\n",
    "\n",
    "```python\n",
    "Enter the quantity of t-shirts available:  5\n",
    "Enter the quantity of mugs available:  4\n",
    "Enter the quantity of hats available:  3\n",
    "Enter the quantity of books available:  2\n",
    "Enter the quantity of keychains available:  1\n",
    "Enter the number of customer orders:  2\n",
    "Enter the name of a product that a customer wants to order:  hat\n",
    "Enter the name of a product that a customer wants to order:  keychain\n",
    "\n",
    "Order Statistics:\n",
    "Total Products Ordered: 2\n",
    "Percentage of Unique Products Ordered: 40.0\n",
    "\n",
    "Updated Inventory:\n",
    "t-shirt: 5\n",
    "mug: 4\n",
    "hat: 2\n",
    "book: 2\n",
    "Enter the price of keychain:  5\n",
    "Enter the price of hat:  10\n",
    "Total Price: 15.0\n",
    "\n",
    "```\n"
   ]
  },
  {
   "cell_type": "code",
   "execution_count": 12,
   "id": "4bd39484",
   "metadata": {},
   "outputs": [
    {
     "data": {
      "text/plain": [
       "['t-shirt', 'mug', 'hat', 'book', 'keychain']"
      ]
     },
     "execution_count": 12,
     "metadata": {},
     "output_type": "execute_result"
    }
   ],
   "source": [
    "products =[\"t-shirt\", \"mug\", \"hat\", \"book\", \"keychain\"]\n",
    "products"
   ]
  },
  {
   "cell_type": "code",
   "execution_count": 26,
   "id": "46db2ed8",
   "metadata": {},
   "outputs": [
    {
     "name": "stdout",
     "output_type": "stream",
     "text": [
      "Enter the quantity of t-shirt available: 10\n",
      "Enter the quantity of mug available: 20\n",
      "Enter the quantity of hat available: 30\n",
      "Enter the quantity of book available: 40\n",
      "Enter the quantity of keychain available: 30\n",
      "Enter the number of customer orders: 2\n",
      "Enter the name of the product you want to order: hat\n",
      "Enter the name of the product you want to order: mug\n"
     ]
    },
    {
     "ename": "TypeError",
     "evalue": "object of type 'function' has no len()",
     "output_type": "error",
     "traceback": [
      "\u001b[1;31m---------------------------------------------------------------------------\u001b[0m",
      "\u001b[1;31mTypeError\u001b[0m                                 Traceback (most recent call last)",
      "Cell \u001b[1;32mIn[26], line 44\u001b[0m\n\u001b[0;32m     42\u001b[0m inventory\u001b[38;5;241m=\u001b[39m initialize_inventory(products)\n\u001b[0;32m     43\u001b[0m customer_orders\u001b[38;5;241m=\u001b[39m get_customer_orders()\n\u001b[1;32m---> 44\u001b[0m total_ordered, percentage_unique\u001b[38;5;241m=\u001b[39m \u001b[43mcalculate_order_statistics\u001b[49m\u001b[43m(\u001b[49m\u001b[43mcustomer_orders\u001b[49m\u001b[43m,\u001b[49m\u001b[43m \u001b[49m\u001b[43mproducts\u001b[49m\u001b[43m)\u001b[49m\n\u001b[0;32m     45\u001b[0m total_price\u001b[38;5;241m=\u001b[39m calculate_total_price(customer_order)\n\u001b[0;32m     46\u001b[0m update_inventory \u001b[38;5;241m=\u001b[39m update_inventory(customer_orders, inventory)\n",
      "Cell \u001b[1;32mIn[26], line 25\u001b[0m, in \u001b[0;36mcalculate_order_statistics\u001b[1;34m(customer_orders, products)\u001b[0m\n\u001b[0;32m     24\u001b[0m \u001b[38;5;28;01mdef\u001b[39;00m \u001b[38;5;21mcalculate_order_statistics\u001b[39m(customer_orders, products):\n\u001b[1;32m---> 25\u001b[0m     total_ordered\u001b[38;5;241m=\u001b[39m \u001b[38;5;28;43mlen\u001b[39;49m\u001b[43m(\u001b[49m\u001b[43mcustomer_orders\u001b[49m\u001b[43m)\u001b[49m\n\u001b[0;32m     26\u001b[0m     unique_product \u001b[38;5;241m=\u001b[39m \u001b[38;5;28mlen\u001b[39m(\u001b[38;5;28mset\u001b[39m(customer_orders))\n\u001b[0;32m     27\u001b[0m     percentage_unique \u001b[38;5;241m=\u001b[39m (unique_product\u001b[38;5;241m/\u001b[39m \u001b[38;5;28mlen\u001b[39m(products)) \u001b[38;5;241m*\u001b[39m\u001b[38;5;241m100\u001b[39m\n",
      "\u001b[1;31mTypeError\u001b[0m: object of type 'function' has no len()"
     ]
    }
   ],
   "source": [
    "def initialize_inventory(products):\n",
    "    inventory = {product: int(input(f\"Enter the quantity of {product} available: \")) for product in products}\n",
    "    return inventory\n",
    "\n",
    "def get_customer_orders():\n",
    "    \n",
    "    num_orders = int(input(\"Enter the number of customer orders: \"))\n",
    "    new_order = {input(\"Enter the name of the product you want to order: \") for i in range(num_orders)}\n",
    "    return customer_orders\n",
    "\n",
    "def calculate_total_price(customer_orders):\n",
    "    total_price= sum(float(input(f\"Enter the price for {product}:\")) for product in customer_orders)\n",
    "    return total_price \n",
    "\n",
    "# remove the product from the inventory if its quantity becomes zero after fulfilling the customer orders.\n",
    "\n",
    "def update_inventory(customer_orders, inventory):\n",
    "    for order in customer_orders:\n",
    "        if order in inventory and inventory[order] > 0:\n",
    "            inventory[order] -=1 \n",
    "    inventory = {product: quantity for product, quantity in inventory.items() if quantity >0}    \n",
    "    return inventory\n",
    "\n",
    "def calculate_order_statistics(customer_orders, products):\n",
    "    total_ordered = len(customer_orders)\n",
    "    unique_product = len(set(customer_orders))\n",
    "    percentage_unique = (unique_product/ len(products)) *100\n",
    "    return total_ordered, percentage_unique\n",
    "\n",
    "def print_ordered_statistics(total_ordered, percentage_unique):\n",
    "    print(\"\\nOrder Statistics:\")\n",
    "    print(f\"Total Products Ordered: {total_ordered}\")\n",
    "    print(f\"Percentage of unique product ordered: {percentage_unique}\")\n",
    "    \n",
    "def print_updated_inventory(inventory):\n",
    "    print(\"\\nUpdated Inventory:\")\n",
    "    for product, quantity in inventory.items():\n",
    "        print(f\"{products}: {quantity}\")\n",
    "        \n",
    "\n",
    "products =[\"t-shirt\", \"mug\", \"hat\", \"book\", \"keychain\"]\n",
    "inventory= initialize_inventory(products)\n",
    "customer_orders= get_customer_orders()\n",
    "total_ordered, percentage_unique = calculate_order_statistics(customer_orders, products)\n",
    "total_price= calculate_total_price(customer_order)\n",
    "update_inventory = update_inventory(customer_orders, inventory)\n",
    "\n",
    "print_order_statistics(total_ordered, percentage_unique)\n",
    "print_updated_inventory(updated_inventory)\n",
    "print(f\"\\nTotal Price: {total_price}\")"
   ]
  },
  {
   "cell_type": "code",
   "execution_count": 27,
   "id": "a2766cf5",
   "metadata": {},
   "outputs": [
    {
     "name": "stdout",
     "output_type": "stream",
     "text": [
      "Enter the quantity of t-shirts available:  10\n",
      "Enter the quantity of mugs available:  20\n",
      "Enter the quantity of hats available:  30\n",
      "Enter the quantity of books available:  40\n",
      "Enter the quantity of keychains available:  30\n",
      "Enter the number of customer orders: 2\n",
      "Enter the product name: mug\n",
      "Enter the product name: hat\n",
      "Enter the price for hat: 10\n",
      "Enter the price for mug: 20\n",
      "\n",
      "Order Statistics:\n",
      "Total Products Ordered: 2\n",
      "Percentage of Unique Products Ordered: 40.0\n",
      "\n",
      "Updated Inventory:\n",
      "t-shirt: 10\n",
      "mug: 19\n",
      "hat: 29\n",
      "book: 40\n",
      "keychain: 30\n",
      "\n",
      "Total Price: 30.0\n"
     ]
    }
   ],
   "source": [
    "def initialize_inventory(products):\n",
    "    inventory = {product: int(input(f\"Enter the quantity of {product}s available:  \")) for product in products}\n",
    "    return inventory\n",
    "\n",
    "\n",
    "def get_customer_orders():\n",
    "    num_orders = int(input(\"Enter the number of customer orders: \"))\n",
    "    customer_orders = {input(\"Enter the product name: \") for _ in range(num_orders)}\n",
    "    return customer_orders\n",
    "\n",
    "\n",
    "def calculate_total_price(customer_orders):\n",
    "    total_price = sum(float(input(f\"Enter the price for {product}: \")) for product in customer_orders)\n",
    "    return total_price\n",
    "\n",
    "\n",
    "def update_inventory(customer_orders, inventory):\n",
    "    for order in customer_orders:\n",
    "        if order in inventory and inventory[order] > 0:\n",
    "            inventory[order] -= 1\n",
    "    inventory = {product: quantity for product, quantity in inventory.items() if quantity > 0}\n",
    "    return inventory\n",
    "\n",
    "\n",
    "def calculate_order_statistics(customer_orders, products):\n",
    "    total_ordered = len(customer_orders)\n",
    "    unique_ordered = len(set(customer_orders))\n",
    "    percentage_unique = (unique_ordered / len(products)) * 100\n",
    "    return total_ordered, percentage_unique\n",
    "\n",
    "\n",
    "def print_order_statistics(total_ordered, percentage_unique):\n",
    "    print(\"\\nOrder Statistics:\")\n",
    "    print(f\"Total Products Ordered: {total_ordered}\")\n",
    "    print(f\"Percentage of Unique Products Ordered: {percentage_unique}\")\n",
    "    \n",
    "    \n",
    "def print_updated_inventory(inventory):\n",
    "    print(\"\\nUpdated Inventory:\")\n",
    "    for product, quantity in inventory.items():\n",
    "        print(f\"{product}: {quantity}\")\n",
    "        \n",
    "        \n",
    "products = [\"t-shirt\", \"mug\", \"hat\", \"book\", \"keychain\"]\n",
    "inventory = initialize_inventory(products)\n",
    "customer_orders = get_customer_orders()\n",
    "total_ordered, percentage_unique = calculate_order_statistics(customer_orders, products)\n",
    "total_price = calculate_total_price(customer_orders)\n",
    "updated_inventory = update_inventory(customer_orders, inventory)\n",
    "\n",
    "print_order_statistics(total_ordered, percentage_unique)\n",
    "print_updated_inventory(updated_inventory)\n",
    "print(f\"\\nTotal Price: {total_price}\")"
   ]
  },
  {
   "cell_type": "code",
   "execution_count": null,
   "id": "589bb677",
   "metadata": {},
   "outputs": [],
   "source": []
  }
 ],
 "metadata": {
  "kernelspec": {
   "display_name": "Python 3 (ipykernel)",
   "language": "python",
   "name": "python3"
  },
  "language_info": {
   "codemirror_mode": {
    "name": "ipython",
    "version": 3
   },
   "file_extension": ".py",
   "mimetype": "text/x-python",
   "name": "python",
   "nbconvert_exporter": "python",
   "pygments_lexer": "ipython3",
   "version": "3.10.9"
  }
 },
 "nbformat": 4,
 "nbformat_minor": 5
}
