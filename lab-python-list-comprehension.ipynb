{
 "cells": [
  {
   "attachments": {},
   "cell_type": "markdown",
   "id": "25d7736c-ba17-4aff-b6bb-66eba20fbf4e",
   "metadata": {},
   "source": [
    "# Lab | List, Dict and Set Comprehension"
   ]
  },
  {
   "attachments": {},
   "cell_type": "markdown",
   "id": "7dd3cbde-675a-4b81-92c3-f728846dbe06",
   "metadata": {},
   "source": [
    "## Exercise: Managing Customer Orders Optimized with Comprehension"
   ]
  },
  {
   "cell_type": "markdown",
   "id": "5d500160-2fb7-4777-b5e4-09d45ebaf328",
   "metadata": {},
   "source": [
    "In the previous exercise, you developed a program to manage customer orders and inventory. Now, let's take it a step further and incorporate comprehension into your code.\n",
    "\n",
    "Follow the steps below to complete the exercise:\n",
    "\n",
    "1. Review your code from the previous exercise and identify areas where you can apply comprehension to simplify and streamline your code. \n",
    "\n",
    "    - *Hint: Apply it to initialize inventory, updating the inventory and printing the updated inventory.*\n",
    "    \n",
    "    - For example, in initializing the inventory, we could have:\n",
    "    \n",
    "        ```python\n",
    "        def initialize_inventory(products):\n",
    "            inventory = {product: int(input(f\"Enter the quantity of {product}s available: \")) for product in products}\n",
    "            return inventory\n",
    "\n",
    "        ```\n",
    "<br>\n",
    "    \n",
    "    \n",
    "2. Modify the function get_customer_orders so it prompts the user to enter the number of customer orders and gathers the product names using a loop and user input. Use comprehension.\n",
    "\n",
    "3. Add a new function to calculate the total price of the customer order. For each product in customer_orders, prompt the user to enter the price of that product. Use comprehension to calculate the total price. Note: assume that the user can only have 1 unit of each product.\n",
    "\n",
    "4. Modify the update_inventory function to remove the product from the inventory if its quantity becomes zero after fulfilling the customer orders. Use comprehension to filter out the products with a quantity of zero from the inventory.\n",
    "\n",
    "5. Print the total price of the customer order.\n",
    "\n",
    "Your code should produce output similar to the following:\n",
    "\n",
    "```python\n",
    "Enter the quantity of t-shirts available:  5\n",
    "Enter the quantity of mugs available:  4\n",
    "Enter the quantity of hats available:  3\n",
    "Enter the quantity of books available:  2\n",
    "Enter the quantity of keychains available:  1\n",
    "Enter the number of customer orders:  2\n",
    "Enter the name of a product that a customer wants to order:  hat\n",
    "Enter the name of a product that a customer wants to order:  keychain\n",
    "\n",
    "Order Statistics:\n",
    "Total Products Ordered: 2\n",
    "Percentage of Unique Products Ordered: 40.0\n",
    "\n",
    "Updated Inventory:\n",
    "t-shirt: 5\n",
    "mug: 4\n",
    "hat: 2\n",
    "book: 2\n",
    "Enter the price of keychain:  5\n",
    "Enter the price of hat:  10\n",
    "Total Price: 15.0\n",
    "\n",
    "```\n"
   ]
  },
  {
   "attachments": {},
   "cell_type": "markdown",
   "id": "0ed1de04",
   "metadata": {},
   "source": [
    "### Question 1"
   ]
  },
  {
   "cell_type": "code",
   "execution_count": 37,
   "id": "4b50316e",
   "metadata": {},
   "outputs": [],
   "source": [
    "def initialize_inventory(products) :\n",
    "    inventory = dict()\n",
    "\n",
    "    #--Version 0--\n",
    "    # for i in products :\n",
    "    #     print(\"Which qunatity of\", i, \"do you want ?\")\n",
    "    #     inventory[i] = int(input())\n",
    "\n",
    "    #--Version 1--\n",
    "    # for i in products :\n",
    "    #   print(('Which qunatity of {0}, \"do you want ?').format(i))\n",
    "    #   inventory[i] = int(input())\n",
    "    # return inventory\n",
    "\n",
    "\n",
    "    #--Version 2--\n",
    "    # for i in products :\n",
    "    #     inventory[i] = input(('Which qunatity of {0}, \"do you want ?').format(i))\n",
    "    # return inventory\n",
    "\n",
    "    #--Version finale--\n",
    "    inventory = {i :int(input(('Which qunatity of {0}, \"do you want ?').format(i))) for i in products}\n",
    "    return inventory\n",
    "\n",
    "products = [\"t-shirt\", \"mug\", \"hat\", \"book\", \"keychain\"]\n",
    "inventory = initialize_inventory(products)"
   ]
  },
  {
   "cell_type": "code",
   "execution_count": 19,
   "id": "dca77178",
   "metadata": {},
   "outputs": [
    {
     "name": "stdout",
     "output_type": "stream",
     "text": [
      "Enter de product that you want to buy :\n",
      "Do you want to add another product ? (Y/N)\n"
     ]
    }
   ],
   "source": [
    "def get_customer_orders() :\n",
    "    customer_orders = set()\n",
    "\n",
    "    while True :\n",
    "            print(\"Enter de product that you want to buy :\")\n",
    "            customer_orders.add(input())\n",
    "\n",
    "            print(\"Do you want to add another product ? (Y/N)\")\n",
    "            answer = input()\n",
    "            if answer !='Y' :\n",
    "                break\n",
    "    return customer_orders\n",
    "\n",
    "customer_orders = get_customer_orders()"
   ]
  },
  {
   "cell_type": "code",
   "execution_count": 217,
   "id": "6634cc5c",
   "metadata": {},
   "outputs": [],
   "source": [
    "def update_inventory(customer_orders,inventory) :\n",
    "    \n",
    "    #--Version 0--\n",
    "    # for i in customer_orders :\n",
    "    #     inventory[i] -= 1\n",
    "\n",
    "    #--Version 1-- \n",
    "    # for i in inventory :\n",
    "    #     if i in customer_orders :\n",
    "    #         inventory[i] = inventory.get(i) - 1\n",
    "    # else :\n",
    "    #         inventory[i] = inventory.get(i)\n",
    "\n",
    "    # return inventory\n",
    "\n",
    "    #[f(x) if condition else g(x) for x in sequence]\n",
    "    # new_dict_1 = {k: ('old' if v > 40 else 'young') for (k, v) in original_dict.items()}\n",
    "    #{ some_key :(something_if_true if condition else something_if_false) for key, value in dict_.items() }\n",
    "\n",
    "    inventory = { i : (v - 1 if i in customer_orders else v) for (i, v) in inventory.items()}\n",
    "    return inventory\n",
    "\n",
    "inventory ={'t-shirt': -2, 'mug': 0, 'hat': -15, 'book': 1, 'keychain': 29}\n",
    "inventory = update_inventory(customer_orders,inventory)"
   ]
  },
  {
   "attachments": {},
   "cell_type": "markdown",
   "id": "ff550f75",
   "metadata": {},
   "source": [
    "### Question 2"
   ]
  },
  {
   "cell_type": "code",
   "execution_count": 209,
   "id": "58cd3300",
   "metadata": {},
   "outputs": [],
   "source": [
    "def modif_get_customer_orders() :\n",
    "    customer_orders = set()\n",
    "    num_of_orders = int(input(\"Combien de produits voulez-vous commander ?\"))\n",
    "\n",
    "    #Without comprehension\n",
    "    # for i in range(num_of_orders) :\n",
    "    #         customer_orders.add(input(\"Enter de product that you want to buy :\"))\n",
    "    # return customer_orders\n",
    "\n",
    "    #With comprehension\n",
    "    return [input(\"Enter de product that you want to buy :\") for i in range(num_of_orders)]\n",
    "\n",
    "\n",
    "customer_orders = modif_get_customer_orders()"
   ]
  },
  {
   "attachments": {},
   "cell_type": "markdown",
   "id": "2611d711",
   "metadata": {},
   "source": [
    "3. Add a new function to calculate the total price of the customer order. For each product in the customer_orders list, prompt the user to enter the price of that product. Use comprehension to calculate the total price. Note: assume that the user can only have 1 unit of each product."
   ]
  },
  {
   "cell_type": "code",
   "execution_count": 219,
   "id": "d2f7f6d5",
   "metadata": {},
   "outputs": [
    {
     "data": {
      "text/plain": [
       "[30, 12, 15]"
      ]
     },
     "execution_count": 219,
     "metadata": {},
     "output_type": "execute_result"
    }
   ],
   "source": [
    "def price_order_calculation(customer_orders) :\n",
    "\n",
    "    products_prices = []\n",
    "\n",
    "    #Without comprehension\n",
    "    # for product in customer_orders :\n",
    "    #     products_prices.append(int(input(\"Quel est le prix de {0}\".format(product))))\n",
    "    # return products_prices\n",
    "\n",
    "    #With comprehension\n",
    "    return [int(input(\"Quel est le prix de {0}\".format(product))) for product in customer_orders]\n",
    "\n",
    "\n",
    "\n",
    "price_order_calculation(customer_orders)"
   ]
  },
  {
   "attachments": {},
   "cell_type": "markdown",
   "id": "bd864d9f",
   "metadata": {},
   "source": [
    "4. Modify the update_inventory function to remove the product from the inventory if its quantity becomes zero after fulfilling the customer orders. Use comprehension to filter out the products with a quantity of zero from the inventory."
   ]
  },
  {
   "cell_type": "code",
   "execution_count": 243,
   "id": "81d68357",
   "metadata": {},
   "outputs": [
    {
     "data": {
      "text/plain": [
       "{'t-shirt': 2, 'book': 1, 'keychain': 29}"
      ]
     },
     "execution_count": 243,
     "metadata": {},
     "output_type": "execute_result"
    }
   ],
   "source": [
    "def update_inventory(customer_orders,inventory) :\n",
    "\n",
    "    inventory = { i : (v - 1 if i in customer_orders else v) for (i, v) in inventory.items()}\n",
    "\n",
    "    #Without comprehension\n",
    "    # for k in list(inventory.keys()):\n",
    "    #     if inventory[k] <= 0:\n",
    "    #         del inventory[k]\n",
    "    # return inventory\n",
    "\n",
    "    #With comprehension\n",
    "    return {i : v for (i,v) in inventory.items() if v > 0}\n",
    "\n",
    "\n",
    "inventory ={'t-shirt': 2, 'mug': 0, 'hat': -15, 'book': 1, 'keychain': 29}\n",
    "inventory = update_inventory(customer_orders,inventory)\n",
    "\n",
    "\n",
    "inventory"
   ]
  }
 ],
 "metadata": {
  "kernelspec": {
   "display_name": "Python 3 (ipykernel)",
   "language": "python",
   "name": "python3"
  },
  "language_info": {
   "codemirror_mode": {
    "name": "ipython",
    "version": 3
   },
   "file_extension": ".py",
   "mimetype": "text/x-python",
   "name": "python",
   "nbconvert_exporter": "python",
   "pygments_lexer": "ipython3",
   "version": "3.10.10"
  }
 },
 "nbformat": 4,
 "nbformat_minor": 5
}
