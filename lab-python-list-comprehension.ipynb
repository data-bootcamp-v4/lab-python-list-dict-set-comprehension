{
 "cells": [
  {
   "cell_type": "markdown",
   "id": "25d7736c-ba17-4aff-b6bb-66eba20fbf4e",
   "metadata": {},
   "source": [
    "# Lab | List, Dict and Set Comprehension"
   ]
  },
  {
   "cell_type": "markdown",
   "id": "74650549-369b-49c5-87a9-d95372779492",
   "metadata": {},
   "source": [
    "In the previous exercise, you developed a program to manage customer orders and inventory. Now, let's take it a step further and incorporate comprehension into your code.\n",
    "\n",
    "Follow the steps below to complete the exercise:\n",
    "\n",
    "1. Review your code from the previous exercise and identify areas where you can apply comprehension to simplify and streamline your code. \n",
    "\n",
    "    - *Hint: Apply it to initialize inventory, updating the inventory and printing the updated inventory.*\n",
    "    \n",
    "    - For example, in initializing the inventory, we could have:\n",
    "    \n",
    "        ```python\n",
    "        def initialize_inventory(products):\n",
    "            inventory = {product: int(input(f\"Enter the quantity of {product}s available: \")) for product in products}\n",
    "            return inventory\n",
    "\n",
    "        ```\n",
    "<br>\n",
    "    \n",
    "    \n",
    "2. Modify the function get_customer_orders so it prompts the user to enter the number of customer orders and gathers the product names using a loop and user input. Use comprehension.\n",
    "\n",
    "3. Add a new function to calculate the total price of the customer order. For each product in the customer_orders list, prompt the user to enter the price of that product. Use comprehension to calculate the total price. Note: assume that the user can only have 1 unit of each product.\n",
    "\n",
    "4. Modify the update_inventory function to remove the product from the inventory if its quantity becomes zero after fulfilling the customer orders. Use comprehension to filter out the products with a quantity of zero from the inventory.\n",
    "\n",
    "5. Print the total price of the customer order.\n",
    "\n",
    "Your code should produce output similar to the following:\n",
    "\n",
    "```python\n",
    "Enter the quantity of t-shirts available:  5\n",
    "Enter the quantity of mugs available:  4\n",
    "Enter the quantity of hats available:  3\n",
    "Enter the quantity of books available:  2\n",
    "Enter the quantity of keychains available:  1\n",
    "Enter the number of customer orders:  2\n",
    "Enter the name of a product that a customer wants to order:  hat\n",
    "Enter the name of a product that a customer wants to order:  keychain\n",
    "\n",
    "Order Statistics:\n",
    "Total Products Ordered: 2\n",
    "Unique Products Ordered: 2\n",
    "Percentage of Unique Products Ordered: 40.0\n",
    "\n",
    "Updated Inventory:\n",
    "t-shirt: 5\n",
    "mug: 4\n",
    "hat: 2\n",
    "book: 2\n",
    "Enter the price of keychain:  5\n",
    "Enter the price of hat:  10\n",
    "Total Price: 15.0\n",
    "\n",
    "```\n"
   ]
  },
  {
   "cell_type": "code",
   "execution_count": 12,
   "id": "6876bef9",
   "metadata": {},
   "outputs": [
    {
     "name": "stdout",
     "output_type": "stream",
     "text": [
      "Enter the quantity of t-shirt available: 7\n",
      "Enter the quantity of mug available: 4\n",
      "Enter the quantity of hat available: 1\n",
      "Enter the quantity of book available: 5\n",
      "Enter the quantity of keychain available: 5\n"
     ]
    }
   ],
   "source": [
    "# Review your code from the previous exercise and identify areas where you \n",
    "# can apply comprehension to simplify and streamline your code.\n",
    "#  Apply it to initialize inventory, updating the inventory and printing the updated inventory.\n",
    "\n",
    "products = [\"t-shirt\", \"mug\", \"hat\", \"book\", \"keychain\"]\n",
    "\n",
    "def initialize_inventory(products):\n",
    "    inventory = {product: int(input(f\"Enter the quantity of {product} available: \")) for product in products}\n",
    "    return inventory\n",
    "\n",
    "inventory = initialize_inventory(products)"
   ]
  },
  {
   "cell_type": "code",
   "execution_count": 13,
   "id": "d6eba5b5",
   "metadata": {},
   "outputs": [
    {
     "name": "stdout",
     "output_type": "stream",
     "text": [
      "How many products you want to order? 2\n",
      "What product do you want to order? book\n",
      "What product do you want to order? hat\n",
      "{'book', 'hat'}\n"
     ]
    }
   ],
   "source": [
    "# Modify the function get_customer_orders so it prompts the user to enter the number of customer orders and gathers \n",
    "# the product names using a loop and user input. Use comprehension.\n",
    "\n",
    "def get_customer_orders():    \n",
    "    customer_number = int(input(f\"How many products you want to order? \"))\n",
    "    customer_orders = set(str(input(f\"What product do you want to order? \")) for product in range(customer_number))\n",
    "    return customer_orders\n",
    "\n",
    "customer_orders = get_customer_orders()\n",
    "print(customer_orders)"
   ]
  },
  {
   "cell_type": "code",
   "execution_count": 14,
   "id": "562f2a34",
   "metadata": {},
   "outputs": [
    {
     "name": "stdout",
     "output_type": "stream",
     "text": [
      "Enter the price of book: 7\n",
      "Enter the price of hat: 14\n",
      "Total price: 21\n"
     ]
    }
   ],
   "source": [
    "# Add a new function to calculate the total price of the customer order. \n",
    "# For each product in the customer_orders list, prompt the user to enter the price of that product. \n",
    "# Use comprehension to calculate the total price. Note: assume that the user can only have 1 unit of each product.\n",
    "\n",
    "def total_price_order():\n",
    "    price_product = [int(input(f\"Enter the price of {product}: \")) for product in customer_orders]\n",
    "    total_price = sum(price_product)\n",
    "    return total_price\n",
    "       \n",
    "total_price = total_price_order()\n",
    "print(f\"Total price: {total_price}\")"
   ]
  },
  {
   "cell_type": "code",
   "execution_count": 15,
   "id": "5aa78d64",
   "metadata": {},
   "outputs": [
    {
     "name": "stdout",
     "output_type": "stream",
     "text": [
      "Updated inventory: {'t-shirt': 7, 'mug': 4, 'book': 4, 'keychain': 5}\n"
     ]
    }
   ],
   "source": [
    "# Modify the update_inventory function to remove the product from the inventory \n",
    "# if its quantity becomes zero after fulfilling the customer orders. \n",
    "# Use comprehension to filter out the products with a quantity of zero from the inventory.\n",
    "\n",
    "def update_inventory(customer_orders, inventory):\n",
    "    for key in inventory:\n",
    "        if key in customer_orders and inventory[key] > 0:\n",
    "            inventory[key] -= 1\n",
    "    quantity_zero = [key for key in inventory if inventory[key] == 0]\n",
    "    for key in quantity_zero:\n",
    "        inventory.pop(key)\n",
    "    \n",
    "    return inventory\n",
    "\n",
    "inventory = update_inventory(customer_orders, inventory)\n",
    "print(f\"Updated inventory: {inventory}\")"
   ]
  }
 ],
 "metadata": {
  "kernelspec": {
   "display_name": "Python 3 (ipykernel)",
   "language": "python",
   "name": "python3"
  },
  "language_info": {
   "codemirror_mode": {
    "name": "ipython",
    "version": 3
   },
   "file_extension": ".py",
   "mimetype": "text/x-python",
   "name": "python",
   "nbconvert_exporter": "python",
   "pygments_lexer": "ipython3",
   "version": "3.10.9"
  }
 },
 "nbformat": 4,
 "nbformat_minor": 5
}
