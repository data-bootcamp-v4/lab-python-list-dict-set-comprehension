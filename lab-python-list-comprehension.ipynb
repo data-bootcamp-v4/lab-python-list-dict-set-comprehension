{
 "cells": [
  {
   "attachments": {},
   "cell_type": "markdown",
   "id": "25d7736c-ba17-4aff-b6bb-66eba20fbf4e",
   "metadata": {},
   "source": [
    "# Lab | List, Dict and Set Comprehension"
   ]
  },
  {
   "attachments": {},
   "cell_type": "markdown",
   "id": "74650549-369b-49c5-87a9-d95372779492",
   "metadata": {},
   "source": [
    "In the previous exercise, you developed a program to manage customer orders and inventory. Now, let's take it a step further and incorporate comprehension into your code.\n",
    "\n",
    "Follow the steps below to complete the exercise:\n",
    "\n",
    "1. Review your code from the previous exercise and identify areas where you can apply comprehension to simplify and streamline your code. \n",
    "\n",
    "    - *Hint: Apply it to initialize inventory, updating the inventory and printing the updated inventory.*\n",
    "    \n",
    "    - For example, in initializing the inventory, we could have:\n",
    "    \n",
    "        ```python\n",
    "        def initialize_inventory(products):\n",
    "            inventory = {product: int(input(f\"Enter the quantity of {product}s available: \")) for product in products}\n",
    "            return inventory\n",
    "\n",
    "        ```\n",
    "<br>\n",
    "    \n",
    "    \n",
    "2. Modify the function get_customer_orders so it prompts the user to enter the number of customer orders and gathers the product names using a loop and user input. Use comprehension.\n",
    "\n",
    "3. Add a new function to calculate the total price of the customer order. For each product in the customer_orders list, prompt the user to enter the price of that product. Use comprehension to calculate the total price. Note: assume that the user can only have 1 unit of each product.\n",
    "\n",
    "4. Modify the update_inventory function to remove the product from the inventory if its quantity becomes zero after fulfilling the customer orders. Use comprehension to filter out the products with a quantity of zero from the inventory.\n",
    "\n",
    "5. Print the total price of the customer order.\n",
    "\n",
    "Your code should produce output similar to the following:\n",
    "\n",
    "```python\n",
    "Enter the quantity of t-shirts available:  5\n",
    "Enter the quantity of mugs available:  4\n",
    "Enter the quantity of hats available:  3\n",
    "Enter the quantity of books available:  2\n",
    "Enter the quantity of keychains available:  1\n",
    "Enter the number of customer orders:  2\n",
    "Enter the name of a product that a customer wants to order:  hat\n",
    "Enter the name of a product that a customer wants to order:  keychain\n",
    "\n",
    "Order Statistics:\n",
    "Total Products Ordered: 2\n",
    "Unique Products Ordered: 2\n",
    "Percentage of Unique Products Ordered: 40.0\n",
    "\n",
    "Updated Inventory:\n",
    "t-shirt: 5\n",
    "mug: 4\n",
    "hat: 2\n",
    "book: 2\n",
    "Enter the price of keychain:  5\n",
    "Enter the price of hat:  10\n",
    "Total Price: 15.0\n",
    "\n",
    "```\n"
   ]
  },
  {
   "cell_type": "code",
   "execution_count": 25,
   "id": "491bc1d5",
   "metadata": {},
   "outputs": [],
   "source": [
    "#1. Review your code from the previous exercise and identify areas where you can apply comprehension to simplify and streamline your code.\n",
    "products = [\"t-shirt\", \"mug\", \"hat\", \"book\", \"keychain\"]\n",
    "def initialize_inventory(products):\n",
    "            inventory = {product: int(input(f\"Enter the quantity of {product}s available: \")) for product in products}\n",
    "            return inventory\n",
    "\n",
    "inventory = initialize_inventory(products)\n"
   ]
  },
  {
   "cell_type": "code",
   "execution_count": 26,
   "id": "10635953",
   "metadata": {},
   "outputs": [
    {
     "data": {
      "text/plain": [
       "{'t-shirt': 5, 'mug': 6, 'hat': 2, 'book': 4, 'keychain': 5}"
      ]
     },
     "execution_count": 26,
     "metadata": {},
     "output_type": "execute_result"
    }
   ],
   "source": [
    "inventory = initialize_inventory(products)\n",
    "\n",
    "inventory"
   ]
  },
  {
   "cell_type": "code",
   "execution_count": 20,
   "id": "71447ce4",
   "metadata": {},
   "outputs": [],
   "source": [
    "\n",
    "# Define a function named `get_customer_orders` that takes no parameters\n",
    "# Implement the code for prompting the user to enter the product names using a loop. The function should return the `customer_orders` set.\n",
    "\n",
    "def get_customer_orders():\n",
    "    customer_orders = set()\n",
    "    while True :\n",
    "        order_product = input(\"Enter the name of the product the customer wants to order: \")\n",
    "        customer_orders.add(order_product)\n",
    "\n",
    "        add_another = input(\"Do you want to add another product? (yes/no): \")\n",
    "        if add_another.lower() != \"yes\":\n",
    "            break\n",
    "    return customer_orders\n",
    "\n",
    "customer_orders = get_customer_orders()\n"
   ]
  },
  {
   "cell_type": "code",
   "execution_count": 9,
   "id": "e371c8f1",
   "metadata": {},
   "outputs": [
    {
     "data": {
      "text/plain": [
       "{'mug'}"
      ]
     },
     "execution_count": 9,
     "metadata": {},
     "output_type": "execute_result"
    }
   ],
   "source": [
    "#run\n",
    "get_customer_orders()"
   ]
  },
  {
   "cell_type": "code",
   "execution_count": 8,
   "id": "e92bcd4a",
   "metadata": {},
   "outputs": [],
   "source": [
    "def update_inventory(customer_orders, inventory):\n",
    "    inventory = { i : (v - 1 if i in customer_orders else v) for (i, v) in inventory.items()}  \n",
    "    return inventory\n",
    "\n",
    "inventory = update_inventory(customer_orders, inventory)"
   ]
  },
  {
   "cell_type": "code",
   "execution_count": 21,
   "id": "8196ccd0",
   "metadata": {},
   "outputs": [
    {
     "ename": "NameError",
     "evalue": "name 'inventory' is not defined",
     "output_type": "error",
     "traceback": [
      "\u001b[1;31m---------------------------------------------------------------------------\u001b[0m",
      "\u001b[1;31mNameError\u001b[0m                                 Traceback (most recent call last)",
      "Cell \u001b[1;32mIn[21], line 2\u001b[0m\n\u001b[0;32m      1\u001b[0m \u001b[39m#run\u001b[39;00m\n\u001b[1;32m----> 2\u001b[0m update_inventory(customer_orders, inventory)\n",
      "\u001b[1;31mNameError\u001b[0m: name 'inventory' is not defined"
     ]
    }
   ],
   "source": [
    "#run\n",
    "inventory = update_inventory(customer_orders, inventory)\n",
    "update_inventory(customer_orders, inventory)"
   ]
  },
  {
   "cell_type": "code",
   "execution_count": 13,
   "id": "8c86805f",
   "metadata": {},
   "outputs": [],
   "source": [
    "#2. Modify the function get_customer_orders so it prompts the user to enter the number of customer orders and gathers the product names using a loop and user input. \n",
    "#Use comprehension.\n",
    "\n",
    "def get_customer_orders():\n",
    "    num_orders = int(input(\"Enter the number of customer orders: \"))\n",
    "    customer_orders = {input(\"Enter the name of the product the customer wants to order: \") for _ in range(num_orders)}\n",
    "    return customer_orders\n",
    "\n",
    "customer_orders = get_customer_orders()\n"
   ]
  },
  {
   "cell_type": "code",
   "execution_count": null,
   "id": "47eccc1c",
   "metadata": {},
   "outputs": [],
   "source": [
    "#run\n",
    "get_customer_orders()"
   ]
  },
  {
   "cell_type": "code",
   "execution_count": 30,
   "id": "ebe9cde5",
   "metadata": {},
   "outputs": [
    {
     "data": {
      "text/plain": [
       "5"
      ]
     },
     "execution_count": 30,
     "metadata": {},
     "output_type": "execute_result"
    }
   ],
   "source": [
    "#3. \n",
    "#Add a new function to calculate the total price of the customer order. \n",
    "#For each product in the customer_orders list, prompt the user to enter the price of that product. \n",
    "#Use comprehension to calculate the total price. Note: assume that the user can only have 1 unit of each product.\n",
    "\n",
    "def calculate_total_price(customer_orders):\n",
    "    total_price = sum(\n",
    "        int(input(f\"Enter the price of '{product}': \"))\n",
    "        for product in customer_orders\n",
    "    )\n",
    "    return total_price\n",
    "\n",
    "# the int() function to convert the user's input for each product price into an integer. "
   ]
  },
  {
   "cell_type": "code",
   "execution_count": null,
   "id": "635506fc",
   "metadata": {},
   "outputs": [],
   "source": [
    "# calculate_total_price function after calling get_customer_orders to calculate the total price of the customer's order using integer prices.\n",
    "calculate_total_price(customer_orders)\n"
   ]
  },
  {
   "cell_type": "code",
   "execution_count": 18,
   "id": "089d4864",
   "metadata": {},
   "outputs": [],
   "source": [
    "#4\n",
    "#Modify the update_inventory function to remove the product from the inventory if its quantity becomes zero after fulfilling the customer orders. \n",
    "#Use comprehension to filter out the products with a quantity of zero from the inventory.\n",
    "\n",
    "def update_inventory(customer_orders, inventory):\n",
    "    inventory = {i: (v - 1 if i in customer_orders else v) for (i, v) in inventory.items()}\n",
    "\n",
    "    # Filter out products with quantity zero\n",
    "    inventory = {i: v for (i, v) in inventory.items() if v != 0}\n",
    "\n",
    "    return inventory\n"
   ]
  },
  {
   "cell_type": "code",
   "execution_count": 19,
   "id": "9cc75777",
   "metadata": {},
   "outputs": [
    {
     "ename": "NameError",
     "evalue": "name 'inventory' is not defined",
     "output_type": "error",
     "traceback": [
      "\u001b[1;31m---------------------------------------------------------------------------\u001b[0m",
      "\u001b[1;31mNameError\u001b[0m                                 Traceback (most recent call last)",
      "Cell \u001b[1;32mIn[19], line 3\u001b[0m\n\u001b[0;32m      1\u001b[0m \u001b[39m#run\u001b[39;00m\n\u001b[1;32m----> 3\u001b[0m update_inventory(customer_orders, inventory)\n",
      "\u001b[1;31mNameError\u001b[0m: name 'inventory' is not defined"
     ]
    }
   ],
   "source": [
    "#run\n",
    "\n",
    "update_inventory(customer_orders, inventory)\n",
    "\n"
   ]
  },
  {
   "cell_type": "code",
   "execution_count": null,
   "id": "b0af7f8f",
   "metadata": {},
   "outputs": [],
   "source": [
    "#5. Print the total price of the customer order.\n",
    "\n",
    "product_prices = {\n",
    "    'Product A': 10,\n",
    "    'Product B': 15,\n",
    "    'Product C': 20\n",
    "}\n",
    "\n",
    "total_price = get_customer_orders(product_prices)\n",
    "print(\"Total Price: $\", total_price)"
   ]
  }
 ],
 "metadata": {
  "kernelspec": {
   "display_name": "Python 3 (ipykernel)",
   "language": "python",
   "name": "python3"
  },
  "language_info": {
   "codemirror_mode": {
    "name": "ipython",
    "version": 3
   },
   "file_extension": ".py",
   "mimetype": "text/x-python",
   "name": "python",
   "nbconvert_exporter": "python",
   "pygments_lexer": "ipython3",
   "version": "3.11.4"
  }
 },
 "nbformat": 4,
 "nbformat_minor": 5
}
