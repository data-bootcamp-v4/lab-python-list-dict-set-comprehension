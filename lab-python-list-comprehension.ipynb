{
 "cells": [
  {
   "attachments": {},
   "cell_type": "markdown",
   "id": "25d7736c-ba17-4aff-b6bb-66eba20fbf4e",
   "metadata": {},
   "source": [
    "# Lab | List, Dict and Set Comprehension"
   ]
  },
  {
   "attachments": {},
   "cell_type": "markdown",
   "id": "74650549-369b-49c5-87a9-d95372779492",
   "metadata": {},
   "source": [
    "In the previous exercise, you developed a program to manage customer orders and inventory. Now, let's take it a step further and incorporate comprehension into your code.\n",
    "\n",
    "Follow the steps below to complete the exercise:\n",
    "\n",
    "1. Review your code from the previous exercise and identify areas where you can apply comprehension to simplify and streamline your code. \n",
    "\n",
    "    - *Hint: Apply it to initialize inventory, updating the inventory and printing the updated inventory.*\n",
    "    \n",
    "    - For example, in initializing the inventory, we could have:\n",
    "    \n",
    "        ```python\n",
    "        def initialize_inventory(products):\n",
    "            inventory = {product: int(input(f\"Enter the quantity of {product}s available: \")) for product in products}\n",
    "            return inventory\n",
    "\n",
    "        ```\n",
    "<br>\n",
    "    \n",
    "    \n",
    "2. Modify the function get_customer_orders so it prompts the user to enter the number of customer orders and gathers the product names using a loop and user input. Use comprehension.\n",
    "\n",
    "3. Add a new function to calculate the total price of the customer order. For each product in the customer_orders list, prompt the user to enter the price of that product. Use comprehension to calculate the total price. Note: assume that the user can only have 1 unit of each product.\n",
    "\n",
    "4. Modify the update_inventory function to remove the product from the inventory if its quantity becomes zero after fulfilling the customer orders. Use comprehension to filter out the products with a quantity of zero from the inventory.\n",
    "\n",
    "5. Print the total price of the customer order.\n",
    "\n",
    "Your code should produce output similar to the following:\n",
    "\n",
    "```python\n",
    "Enter the quantity of t-shirts available:  5\n",
    "Enter the quantity of mugs available:  4\n",
    "Enter the quantity of hats available:  3\n",
    "Enter the quantity of books available:  2\n",
    "Enter the quantity of keychains available:  1\n",
    "Enter the number of customer orders:  2\n",
    "Enter the name of a product that a customer wants to order:  hat\n",
    "Enter the name of a product that a customer wants to order:  keychain\n",
    "\n",
    "Order Statistics:\n",
    "Total Products Ordered: 2\n",
    "Unique Products Ordered: 2\n",
    "Percentage of Unique Products Ordered: 40.0\n",
    "\n",
    "Updated Inventory:\n",
    "t-shirt: 5\n",
    "mug: 4\n",
    "hat: 2\n",
    "book: 2\n",
    "Enter the price of keychain:  5\n",
    "Enter the price of hat:  10\n",
    "Total Price: 15.0\n",
    "\n",
    "```\n"
   ]
  },
  {
   "cell_type": "code",
   "execution_count": 9,
   "id": "32051684",
   "metadata": {},
   "outputs": [
    {
     "name": "stdout",
     "output_type": "stream",
     "text": [
      "{'t-shirt': 5, 'mug': 5, 'hat': 5, 'book': 5, 'keychain': 5}\n"
     ]
    }
   ],
   "source": [
    "Products = [\"t-shirt\", \"mug\", \"hat\", \"book\", \"keychain\"]\n",
    "Inventory = {}\n",
    "\n",
    "def initialize_inventory(products):\n",
    "            inventory = {product: int(input(f\"Enter the quantity of {product}s available: \")) for product in products}\n",
    "            return inventory\n",
    "\n",
    "Inventory = initialize_inventory(Products)\n",
    "print(Inventory)"
   ]
  },
  {
   "cell_type": "code",
   "execution_count": 11,
   "id": "7a9b4507",
   "metadata": {},
   "outputs": [
    {
     "data": {
      "text/plain": [
       "('Customer orders:', {'book', 'hat', 'mug'})"
      ]
     },
     "execution_count": 11,
     "metadata": {},
     "output_type": "execute_result"
    }
   ],
   "source": [
    "customer_orders = set()\n",
    "\n",
    "def get_customer_orders():\n",
    "\n",
    "   \n",
    "    pc = input(\"Enter the product name : \")\n",
    "    customer_orders.add(pc)\n",
    "    ask = input(\"Do you want to add another product? (yes/no): \")\n",
    "\n",
    "\n",
    "    while ask == \"yes\":\n",
    "\n",
    "        pc= input(\"Enter the name of another product that the customer wants to order: \")\n",
    "\n",
    "        customer_orders.add(pc)\n",
    "\n",
    "        ask = input(\"Do you want to add another product? (yes/no): \")\n",
    "\n",
    "    return \"Customer orders:\", customer_orders\n",
    "\n",
    "get_customer_orders()"
   ]
  },
  {
   "cell_type": "code",
   "execution_count": 12,
   "metadata": {},
   "outputs": [
    {
     "data": {
      "text/plain": [
       "{'t-shirt': 5, 'mug': 4, 'hat': 4, 'book': 4, 'keychain': 5}"
      ]
     },
     "execution_count": 12,
     "metadata": {},
     "output_type": "execute_result"
    }
   ],
   "source": [
    "\n",
    "def update_inventory(customer_orders,Inventory):\n",
    "\n",
    "    #V1// Inventory = {key: Inventory[key] - 1 for key in Inventory if key in customer_orders}\n",
    "\n",
    "    Inventory = {key: Inventory.get(key, 0) - 1 if key in customer_orders else Inventory.get(key, 0) - 0 for key in Inventory  }\n",
    "\n",
    "    return Inventory\n",
    "\n",
    "update_inventory(customer_orders,Inventory)"
   ]
  },
  {
   "cell_type": "code",
   "execution_count": 13,
   "id": "54771ed4",
   "metadata": {},
   "outputs": [
    {
     "name": "stdout",
     "output_type": "stream",
     "text": [
      "{'mug', 'hat', 'book'}\n"
     ]
    }
   ],
   "source": [
    "customer_orders = set()\n",
    "\n",
    "def get_customer_orders():\n",
    "    nb = int(input(\"How many orders do you have ? \"))\n",
    "    c = {(input(\"enter your product\")) for x in range (1,nb+1)}\n",
    "    return c\n",
    "\n",
    "\n",
    "    \n",
    "\n",
    "customer_orders = get_customer_orders()\n",
    "\n",
    "print(customer_orders)"
   ]
  },
  {
   "attachments": {},
   "cell_type": "markdown",
   "id": "4d0fb593",
   "metadata": {},
   "source": [
    "3. Add a new function to calculate the total price of the customer order. For each product in the customer_orders list, prompt the user to enter the price of that product. Use comprehension to calculate the total price. Note: assume that the user can only have 1 unit of each product."
   ]
  },
  {
   "cell_type": "code",
   "execution_count": 14,
   "id": "1b3e6f32",
   "metadata": {},
   "outputs": [
    {
     "name": "stdout",
     "output_type": "stream",
     "text": [
      "55 €\n"
     ]
    }
   ],
   "source": [
    "def calcul_price(customer_orders):\n",
    "    total_price = [int(input(\"price\")) for p in customer_orders]\n",
    "    return sum(total_price)\n",
    "\n",
    "price = calcul_price(customer_orders)\n",
    "print(price,\"€\")"
   ]
  },
  {
   "attachments": {},
   "cell_type": "markdown",
   "id": "8688b806",
   "metadata": {},
   "source": [
    "4. Modify the update_inventory function to remove the product from the inventory if its quantity becomes zero after fulfilling the customer orders. Use comprehension to filter out the products with a quantity of zero from the inventory.\n"
   ]
  },
  {
   "cell_type": "code",
   "execution_count": 19,
   "id": "97c4ab33",
   "metadata": {},
   "outputs": [
    {
     "data": {
      "text/plain": [
       "{'t-shirt': 5, 'book': 5, 'keychain': 5}"
      ]
     },
     "execution_count": 19,
     "metadata": {},
     "output_type": "execute_result"
    }
   ],
   "source": [
    "Inventory = {'t-shirt': 5, 'mug': 1, 'hat': 1, 'book': 5, 'keychain': 5}\n",
    "customer_orders = {'mug', 'hat'}\n",
    "\n",
    "def update_inventory(customer_orders,Inventory):\n",
    "\n",
    "\n",
    "    update_inventory0 = {key: quantity - 1 if key in customer_orders else quantity for key,quantity in Inventory.items() if quantity > 0  }\n",
    "    update_inventory1 = {key:quantity for key,quantity in update_inventory0.items() if quantity > 0}\n",
    "    \n",
    "\n",
    "    return update_inventory1\n",
    "\n",
    "update_inventory(customer_orders,Inventory)\n",
    "\n"
   ]
  },
  {
   "cell_type": "code",
   "execution_count": null,
   "id": "eb7c966f",
   "metadata": {},
   "outputs": [],
   "source": [
    "\n"
   ]
  },
  {
   "cell_type": "code",
   "execution_count": 126,
   "id": "684bebd2",
   "metadata": {},
   "outputs": [
    {
     "name": "stdout",
     "output_type": "stream",
     "text": [
      "{}\n"
     ]
    }
   ],
   "source": [
    "\n"
   ]
  },
  {
   "cell_type": "code",
   "execution_count": null,
   "id": "0e664b3f",
   "metadata": {},
   "outputs": [],
   "source": []
  }
 ],
 "metadata": {
  "kernelspec": {
   "display_name": "Python 3 (ipykernel)",
   "language": "python",
   "name": "python3"
  },
  "language_info": {
   "codemirror_mode": {
    "name": "ipython",
    "version": 3
   },
   "file_extension": ".py",
   "mimetype": "text/x-python",
   "name": "python",
   "nbconvert_exporter": "python",
   "pygments_lexer": "ipython3",
   "version": "3.11.4"
  }
 },
 "nbformat": 4,
 "nbformat_minor": 5
}
