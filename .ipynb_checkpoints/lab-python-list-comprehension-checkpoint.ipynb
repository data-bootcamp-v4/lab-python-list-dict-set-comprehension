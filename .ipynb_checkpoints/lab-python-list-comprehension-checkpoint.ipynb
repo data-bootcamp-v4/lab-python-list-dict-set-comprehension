{
 "cells": [
  {
   "cell_type": "markdown",
   "id": "25d7736c-ba17-4aff-b6bb-66eba20fbf4e",
   "metadata": {},
   "source": [
    "# Lab | List, Dict and Set Comprehension"
   ]
  },
  {
   "cell_type": "markdown",
   "id": "7dd3cbde-675a-4b81-92c3-f728846dbe06",
   "metadata": {},
   "source": [
    "## Exercise: Managing Customer Orders Optimized with Comprehension"
   ]
  },
  {
   "cell_type": "markdown",
   "id": "5d500160-2fb7-4777-b5e4-09d45ebaf328",
   "metadata": {},
   "source": [
    "In the previous exercise, you developed a program to manage customer orders and inventory. Now, let's take it a step further and incorporate comprehension into your code.\n",
    "\n",
    "Follow the steps below to complete the exercise:\n",
    "\n",
    "1. Review your code from the previous exercise and identify areas where you can apply comprehension to simplify and streamline your code. \n",
    "\n",
    "    - *Hint: Apply it to initialize inventory, updating the inventory and printing the updated inventory.*\n",
    "    \n",
    "    - For example, in initializing the inventory, we could have:\n",
    "    \n",
    "        ```python\n",
    "        def initialize_inventory(products):\n",
    "            inventory = {product: int(input(f\"Enter the quantity of {product}s available: \")) for product in products}\n",
    "            return inventory\n",
    "\n",
    "        ```\n",
    "<br>\n",
    "    \n",
    "    \n",
    "2. Modify the function get_customer_orders so it prompts the user to enter the number of customer orders and gathers the product names using a loop and user input. Use comprehension.\n",
    "\n",
    "3. Add a new function to calculate the total price of the customer order. For each product in customer_orders, prompt the user to enter the price of that product. Use comprehension to calculate the total price. Note: assume that the user can only have 1 unit of each product.\n",
    "\n",
    "4. Modify the update_inventory function to remove the product from the inventory if its quantity becomes zero after fulfilling the customer orders. Use comprehension to filter out the products with a quantity of zero from the inventory.\n",
    "\n",
    "5. Print the total price of the customer order.\n",
    "\n",
    "Your code should produce output similar to the following:\n",
    "\n",
    "```python\n",
    "Enter the quantity of t-shirts available:  5\n",
    "Enter the quantity of mugs available:  4\n",
    "Enter the quantity of hats available:  3\n",
    "Enter the quantity of books available:  2\n",
    "Enter the quantity of keychains available:  1\n",
    "Enter the number of customer orders:  2\n",
    "Enter the name of a product that a customer wants to order:  hat\n",
    "Enter the name of a product that a customer wants to order:  keychain\n",
    "\n",
    "Order Statistics:\n",
    "Total Products Ordered: 2\n",
    "Percentage of Unique Products Ordered: 40.0\n",
    "\n",
    "Updated Inventory:\n",
    "t-shirt: 5\n",
    "mug: 4\n",
    "hat: 2\n",
    "book: 2\n",
    "Enter the price of keychain:  5\n",
    "Enter the price of hat:  10\n",
    "Total Price: 15.0\n",
    "\n",
    "```\n"
   ]
  },
  {
   "cell_type": "code",
   "execution_count": 15,
   "id": "c55cf070-609e-46d0-9944-2b588bb0504a",
   "metadata": {},
   "outputs": [
    {
     "name": "stdin",
     "output_type": "stream",
     "text": [
      "Enter the quantity of t-shirts available:  2\n",
      "Enter the quantity of mugs available:  3\n",
      "Enter the quantity of hats available:  4\n",
      "Enter the quantity of books available:  5\n",
      "Enter the quantity of keychains available:  6\n"
     ]
    },
    {
     "name": "stdout",
     "output_type": "stream",
     "text": [
      "{'t-shirt': 2, 'mug': 3, 'hat': 4, 'book': 5, 'keychain': 6}\n"
     ]
    }
   ],
   "source": [
    "products = [\"t-shirt\", \"mug\", \"hat\", \"book\", \"keychain\"]\n",
    "\n",
    "\n",
    "# 1\n",
    "# Review your code from the previous exercise and identify areas where you can apply comprehension to simplify and streamline your code.\n",
    "\n",
    "def initialize_inventory(products):\n",
    "    inventory = {product: int(input(f\"Enter the quantity of {product}s available: \")) for product in products}\n",
    "    return inventory\n",
    "    \n",
    "# Usability\n",
    "inventory = initialize_inventory(products)\n",
    "print (inventory)\n",
    "\n"
   ]
  },
  {
   "cell_type": "code",
   "execution_count": 27,
   "id": "bf6d0faf-527d-4c7d-a57f-7a77d163de9c",
   "metadata": {},
   "outputs": [
    {
     "ename": "UnboundLocalError",
     "evalue": "cannot access local variable 'input' where it is not associated with a value",
     "output_type": "error",
     "traceback": [
      "\u001b[1;31m---------------------------------------------------------------------------\u001b[0m",
      "\u001b[1;31mUnboundLocalError\u001b[0m                         Traceback (most recent call last)",
      "Cell \u001b[1;32mIn[27], line 15\u001b[0m\n\u001b[0;32m     12\u001b[0m     \u001b[38;5;28;01mreturn\u001b[39;00m customer_orders\n\u001b[0;32m     14\u001b[0m \u001b[38;5;66;03m# Usability\u001b[39;00m\n\u001b[1;32m---> 15\u001b[0m customer_orders \u001b[38;5;241m=\u001b[39m get_customer_orders()\n\u001b[0;32m     16\u001b[0m \u001b[38;5;28mprint\u001b[39m (customer_orders)\n",
      "Cell \u001b[1;32mIn[27], line 8\u001b[0m, in \u001b[0;36mget_customer_orders\u001b[1;34m()\u001b[0m\n\u001b[0;32m      5\u001b[0m \u001b[38;5;28;01mdef\u001b[39;00m \u001b[38;5;21mget_customer_orders\u001b[39m():\n\u001b[0;32m      7\u001b[0m     \u001b[38;5;28;01mwhile\u001b[39;00m \u001b[38;5;28;01mTrue\u001b[39;00m:\n\u001b[1;32m----> 8\u001b[0m         \u001b[38;5;28minput\u001b[39m \u001b[38;5;241m=\u001b[39m \u001b[38;5;28mstr\u001b[39m(\u001b[38;5;28minput\u001b[39m(\u001b[38;5;124m'\u001b[39m\u001b[38;5;124mEnter the name of a product you want to order: \u001b[39m\u001b[38;5;124m'\u001b[39m)\u001b[38;5;241m.\u001b[39mlower())\n\u001b[0;32m      9\u001b[0m         customer_orders \u001b[38;5;241m=\u001b[39m {\u001b[38;5;28minput\u001b[39m \u001b[38;5;28;01mif\u001b[39;00m \u001b[38;5;28minput\u001b[39m \u001b[38;5;129;01min\u001b[39;00m products \u001b[38;5;28;01melse\u001b[39;00m \u001b[38;5;28mprint\u001b[39m(\u001b[38;5;124m'\u001b[39m\u001b[38;5;124mThe product is not in our list.\u001b[39m\u001b[38;5;124m'\u001b[39m)}\n\u001b[0;32m     10\u001b[0m         \u001b[38;5;28;01mif\u001b[39;00m \u001b[38;5;28minput\u001b[39m(\u001b[38;5;124m'\u001b[39m\u001b[38;5;124mDo you want to add another product? (yes/no) \u001b[39m\u001b[38;5;124m'\u001b[39m)\u001b[38;5;241m.\u001b[39mlower() \u001b[38;5;241m==\u001b[39m \u001b[38;5;124m'\u001b[39m\u001b[38;5;124mno\u001b[39m\u001b[38;5;124m'\u001b[39m:\n",
      "\u001b[1;31mUnboundLocalError\u001b[0m: cannot access local variable 'input' where it is not associated with a value"
     ]
    }
   ],
   "source": [
    "# 2\n",
    "# Modify the function get_customer_orders so it prompts the user to enter \n",
    "# the number of customer orders and gathers the product names using a loop and user input. Use comprehension.\n",
    "\n",
    "def get_customer_orders():\n",
    "  \n",
    "    while True:\n",
    "        input = str(input('Enter the name of a product you want to order: ').lower())\n",
    "        customer_orders = {input if input in products else print('The product is not in our list.')}\n",
    "        if input('Do you want to add another product? (yes/no) ').lower() == 'no':\n",
    "             break\n",
    "    return customer_orders\n",
    "\n",
    "# Usability\n",
    "customer_orders = get_customer_orders()\n",
    "print (customer_orders)"
   ]
  },
  {
   "cell_type": "code",
   "execution_count": 21,
   "id": "955ef5b4-6d20-4289-9aee-b7b2c8575e98",
   "metadata": {},
   "outputs": [],
   "source": [
    "# Add a new function to calculate the total price of the customer order.\n",
    "# For each product in customer_orders, prompt the user to enter the price of that product.\n",
    "# Use comprehension to calculate the total price.\n",
    "# Note: assume that the user can only have 1 unit of each product.\n",
    "\n",
    "def total_price():\n",
    "    total_price = {input(f\"enter the price of {product}\" for order in customer_orders)}\n",
    "    return total_price.sum()"
   ]
  },
  {
   "cell_type": "code",
   "execution_count": null,
   "id": "85e5f7fc-2746-47d0-9dd7-08fe3a6a8b23",
   "metadata": {},
   "outputs": [],
   "source": []
  }
 ],
 "metadata": {
  "kernelspec": {
   "display_name": "Python 3 (ipykernel)",
   "language": "python",
   "name": "python3"
  },
  "language_info": {
   "codemirror_mode": {
    "name": "ipython",
    "version": 3
   },
   "file_extension": ".py",
   "mimetype": "text/x-python",
   "name": "python",
   "nbconvert_exporter": "python",
   "pygments_lexer": "ipython3",
   "version": "3.11.7"
  }
 },
 "nbformat": 4,
 "nbformat_minor": 5
}
