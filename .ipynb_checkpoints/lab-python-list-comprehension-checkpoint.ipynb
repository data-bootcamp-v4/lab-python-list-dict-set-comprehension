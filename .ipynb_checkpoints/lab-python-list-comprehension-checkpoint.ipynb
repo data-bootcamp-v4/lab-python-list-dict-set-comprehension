{
 "cells": [
  {
   "cell_type": "markdown",
   "id": "25d7736c-ba17-4aff-b6bb-66eba20fbf4e",
   "metadata": {},
   "source": [
    "# Lab | List, Dict and Set Comprehension"
   ]
  },
  {
   "cell_type": "markdown",
   "id": "7dd3cbde-675a-4b81-92c3-f728846dbe06",
   "metadata": {},
   "source": [
    "## Exercise: Managing Customer Orders Optimized with Comprehension"
   ]
  },
  {
   "cell_type": "markdown",
   "id": "5d500160-2fb7-4777-b5e4-09d45ebaf328",
   "metadata": {},
   "source": [
    "In the previous exercise, you developed a program to manage customer orders and inventory. Now, let's take it a step further and incorporate comprehension into your code.\n",
    "\n",
    "Follow the steps below to complete the exercise:\n",
    "\n",
    "1. Review your code from the previous exercise and identify areas where you can apply comprehension to simplify and streamline your code. \n",
    "\n",
    "    - *Hint: Apply it to initialize inventory, updating the inventory and printing the updated inventory.*\n",
    "    \n",
    "    - For example, in initializing the inventory, we could have:\n",
    "    \n",
    "        ```python\n",
    "        def initialize_inventory(products):\n",
    "            inventory = {product: int(input(f\"Enter the quantity of {product}s available: \")) for product in products}\n",
    "            return inventory\n",
    "\n",
    "        ```\n",
    "<br>\n",
    "    \n",
    "    \n",
    "2. Modify the function get_customer_orders so it prompts the user to enter the number of customer orders and gathers the product names using a loop and user input. Use comprehension.\n",
    "\n",
    "3. Add a new function to calculate the total price of the customer order. For each product in customer_orders, prompt the user to enter the price of that product. Use comprehension to calculate the total price. Note: assume that the user can only have 1 unit of each product.\n",
    "\n",
    "4. Modify the update_inventory function to remove the product from the inventory if its quantity becomes zero after fulfilling the customer orders. Use comprehension to filter out the products with a quantity of zero from the inventory.\n",
    "\n",
    "5. Print the total price of the customer order.\n",
    "\n",
    "Your code should produce output similar to the following:\n",
    "\n",
    "```python\n",
    "Enter the quantity of t-shirts available:  5\n",
    "Enter the quantity of mugs available:  4\n",
    "Enter the quantity of hats available:  3\n",
    "Enter the quantity of books available:  2\n",
    "Enter the quantity of keychains available:  1\n",
    "Enter the number of customer orders:  2\n",
    "Enter the name of a product that a customer wants to order:  hat\n",
    "Enter the name of a product that a customer wants to order:  keychain\n",
    "\n",
    "Order Statistics:\n",
    "Total Products Ordered: 2\n",
    "Percentage of Unique Products Ordered: 40.0\n",
    "\n",
    "Updated Inventory:\n",
    "t-shirt: 5\n",
    "mug: 4\n",
    "hat: 2\n",
    "book: 2\n",
    "Enter the price of keychain:  5\n",
    "Enter the price of hat:  10\n",
    "Total Price: 15.0\n",
    "\n",
    "```\n"
   ]
  },
  {
   "cell_type": "code",
   "execution_count": 71,
   "id": "090ac4e1-42db-4b86-a45a-0af1262c2acb",
   "metadata": {},
   "outputs": [
    {
     "name": "stdin",
     "output_type": "stream",
     "text": [
      "Enter the quantity of t-shirts available:  2\n",
      "Enter the quantity of mugs available:  2\n",
      "Enter the quantity of hats available:  2\n",
      "Enter the quantity of books available:  2\n",
      "Enter the quantity of keychains available:  2\n"
     ]
    },
    {
     "name": "stdout",
     "output_type": "stream",
     "text": [
      "{'t-shirt': 2, 'mug': 2, 'hat': 2, 'book': 2, 'keychain': 2}\n"
     ]
    },
    {
     "name": "stdin",
     "output_type": "stream",
     "text": [
      "Enter the number of customer orders:  3\n",
      "Please input the product that you would like to order:  keychain\n",
      "Please input the product that you would like to order:  hat\n",
      "Please input the product that you would like to order:  3\n",
      "Please input the price of one hat:  4\n",
      "Please input the price of one 3:  4\n",
      "Please input the price of one keychain:  4\n"
     ]
    },
    {
     "name": "stdout",
     "output_type": "stream",
     "text": [
      "12\n",
      "{'hat', '3', 'keychain'}\n",
      "{'t-shirt': 2, 'mug': 2, 'hat': 1, 'book': 2, 'keychain': 1}\n",
      "{'t-shirt': 2, 'mug': 2, 'hat': 1, 'book': 2, 'keychain': 1}\n",
      "{'t-shirt': 2, 'mug': 2, 'hat': 1, 'book': 2, 'keychain': 1}\n",
      "ERROR: One of the items you were trying to order is out of stock.\n",
      "ERROR: One of the items you were trying to order is out of stock.\n",
      "Order Statistics:\n",
      "Total Products Ordered: 3\n",
      "Percentage of Products Ordered: 37.5%\n",
      "\n",
      "t-shirt: 2\n",
      "mug: 2\n",
      "hat: 1\n",
      "book: 2\n",
      "keychain: 1\n",
      "Total price: 12\n"
     ]
    }
   ],
   "source": [
    "products = [\"t-shirt\", \"mug\", \"hat\", \"book\", \"keychain\"]\n",
    "inventory = {}\n",
    "customer_orders = set()\n",
    "\n",
    "def initialize_inventory(products):\n",
    "    inventory = {product: int(input(f\"Enter the quantity of {product}s available: \")) for product in products}\n",
    "    return(inventory)\n",
    "\n",
    "def get_customer_orders():\n",
    "    times_iterating = int(input(\"Enter the number of customer orders: \"))\n",
    "    customer_orders = set(input(\"Please input the product that you would like to order: \") for i in range(times_iterating))\n",
    "    return customer_orders\n",
    "\n",
    "def initialize_price(customer_orders):\n",
    "    total_price = sum(list(int(input(f\"Please input the price of one {i}: \")) for i in customer_orders))\n",
    "    print(total_price)\n",
    "    return total_price\n",
    "\n",
    "def update_inventory(customer_orders, inventory):\n",
    "    updated_inventory = {product: inventory[product] - 1 if product in customer_orders else inventory[product] for product in inventory}\n",
    "    print(updated_inventory)\n",
    "    updated_inventory2 = {product: updated_inventory[product] for product in updated_inventory if updated_inventory[product] > 0}\n",
    "    print(updated_inventory2)\n",
    "    return(updated_inventory2)\n",
    "\n",
    "def calculate_order_statistics(customer_orders, products):\n",
    "    for product in customer_orders:\n",
    "        if  product not in inventory or inventory[product] == 0:\n",
    "            print(\"ERROR: One of the items you were trying to order is out of stock.\")\n",
    "        else:\n",
    "            total_ordered = len(customer_orders)\n",
    "            order_percentage = round(total_ordered / sum(inventory.values()) * 100, 2)\n",
    "    return [total_ordered, order_percentage]\n",
    "\n",
    "def print_updated_inventory(inventory):\n",
    "    print(f\"Order Statistics:\"\n",
    "          f\"\\nTotal Products Ordered: {total_ordered}\"\n",
    "          f\"\\nPercentage of Products Ordered: {order_percentage}%\"\n",
    "          f\"\\n\")    \n",
    "    print('\\n'.join([f\"{product}: {stock}\" for product, stock in inventory.items()]))\n",
    "    print(f\"Total price: {total_price}\")\n",
    "\n",
    "\n",
    "\n",
    "inventory = initialize_inventory(products)\n",
    "print(inventory)\n",
    "customer_orders = get_customer_orders()\n",
    "total_price = initialize_price(customer_orders)\n",
    "print(customer_orders)\n",
    "inventory = update_inventory(customer_orders, inventory)\n",
    "print(inventory)\n",
    "total_ordered, order_percentage = calculate_order_statistics(customer_orders, products)\n",
    "total_ordered, order_percentage = calculate_order_statistics(customer_orders, inventory)\n",
    "print_updated_inventory(inventory)"
   ]
  },
  {
   "cell_type": "code",
   "execution_count": null,
   "id": "52f484b8-ad8d-4657-b102-ee528ebb6050",
   "metadata": {},
   "outputs": [],
   "source": [
    "def get_customer_orders():\n",
    "    while True:\n",
    "        user_input = input(\"Please input the product that you would like to order: \")\n",
    "        if user_input in products:\n",
    "            customer_orders.add(user_input)\n",
    "        else:\n",
    "            print(\"That's not a valid product.\")\n",
    "            continue\n",
    "        while True:\n",
    "            user_choice = input(\"Would you like to order another item? (Y/N) \").lower()\n",
    "            if user_choice == 'n':\n",
    "                break\n",
    "            elif user_choice == 'y':\n",
    "                break\n",
    "            else:\n",
    "                print(\"Please enter 'Y' for yes or 'N' for no.\")\n",
    "                continue\n",
    "        if user_choice == \"n\":\n",
    "            break\n",
    "    return(customer_orders)"
   ]
  }
 ],
 "metadata": {
  "kernelspec": {
   "display_name": "Python 3 (ipykernel)",
   "language": "python",
   "name": "python3"
  },
  "language_info": {
   "codemirror_mode": {
    "name": "ipython",
    "version": 3
   },
   "file_extension": ".py",
   "mimetype": "text/x-python",
   "name": "python",
   "nbconvert_exporter": "python",
   "pygments_lexer": "ipython3",
   "version": "3.9.13"
  }
 },
 "nbformat": 4,
 "nbformat_minor": 5
}
