{
 "cells": [
  {
   "cell_type": "markdown",
   "id": "25d7736c-ba17-4aff-b6bb-66eba20fbf4e",
   "metadata": {},
   "source": [
    "# Lab | List, Dict and Set Comprehension"
   ]
  },
  {
   "cell_type": "markdown",
   "id": "74650549-369b-49c5-87a9-d95372779492",
   "metadata": {},
   "source": [
    "In the previous exercise, you developed a program to manage customer orders and inventory. Now, let's take it a step further and incorporate comprehension into your code.\n",
    "\n",
    "Follow the steps below to complete the exercise:\n",
    "\n",
    "1. Review your code from the previous exercise and identify areas where you can apply comprehension to simplify and streamline your code. \n",
    "\n",
    "    - *Hint: Apply it to initialize inventory, updating the inventory and printing the updated inventory.*\n",
    "    \n",
    "    - For example, in initializing the inventory, we could have:\n",
    "    \n",
    "        ```python\n",
    "        def initialize_inventory(products):\n",
    "            inventory = {product: int(input(f\"Enter the quantity of {product}s available: \")) for product in products}\n",
    "            return inventory\n",
    "\n",
    "        ```\n",
    "<br>\n",
    "    \n",
    "    \n",
    "2. Modify the function get_customer_orders so it prompts the user to enter the number of customer orders and gathers the product names using a loop and user input. Use comprehension.\n",
    "\n",
    "3. Add a new function to calculate the total price of the customer order. For each product in the customer_orders list, prompt the user to enter the price of that product. Use comprehension to calculate the total price. Note: assume that the user can only have 1 unit of each product.\n",
    "\n",
    "4. Modify the update_inventory function to remove the product from the inventory if its quantity becomes zero after fulfilling the customer orders. Use comprehension to filter out the products with a quantity of zero from the inventory.\n",
    "\n",
    "5. Print the total price of the customer order.\n",
    "\n",
    "Your code should produce output similar to the following:\n",
    "\n",
    "```python\n",
    "Enter the quantity of t-shirts available:  5\n",
    "Enter the quantity of mugs available:  4\n",
    "Enter the quantity of hats available:  3\n",
    "Enter the quantity of books available:  2\n",
    "Enter the quantity of keychains available:  1\n",
    "Enter the number of customer orders:  2\n",
    "Enter the name of a product that a customer wants to order:  hat\n",
    "Enter the name of a product that a customer wants to order:  keychain\n",
    "\n",
    "Order Statistics:\n",
    "Total Products Ordered: 2\n",
    "Unique Products Ordered: 2\n",
    "Percentage of Unique Products Ordered: 40.0\n",
    "\n",
    "Updated Inventory:\n",
    "t-shirt: 5\n",
    "mug: 4\n",
    "hat: 2\n",
    "book: 2\n",
    "Enter the price of keychain:  5\n",
    "Enter the price of hat:  10\n",
    "Total Price: 15.0\n",
    "\n",
    "```\n"
   ]
  },
  {
   "cell_type": "code",
   "execution_count": 1,
   "id": "e378a85f",
   "metadata": {},
   "outputs": [],
   "source": [
    "def initialize_inventory(products):\n",
    "    inventory = {product: int(input(f\"Please enter the quantity of {product}s in the inventory: \")) for product in products}\n",
    "    return inventory"
   ]
  },
  {
   "cell_type": "code",
   "execution_count": 2,
   "id": "5d0c09c3",
   "metadata": {},
   "outputs": [],
   "source": [
    "products = [\"t-shirt\", \"mug\", \"hat\", \"book\", \"keychain\"]"
   ]
  },
  {
   "cell_type": "code",
   "execution_count": 3,
   "id": "be020ffb",
   "metadata": {},
   "outputs": [
    {
     "name": "stdout",
     "output_type": "stream",
     "text": [
      "Please enter the quantity of t-shirts in the inventory: 1\n",
      "Please enter the quantity of mugs in the inventory: 1\n",
      "Please enter the quantity of hats in the inventory: 1\n",
      "Please enter the quantity of books in the inventory: 1\n",
      "Please enter the quantity of keychains in the inventory: 1\n"
     ]
    },
    {
     "data": {
      "text/plain": [
       "{'t-shirt': 1, 'mug': 1, 'hat': 1, 'book': 1, 'keychain': 1}"
      ]
     },
     "execution_count": 3,
     "metadata": {},
     "output_type": "execute_result"
    }
   ],
   "source": [
    "inventory = initialize_inventory(products)\n",
    "inventory"
   ]
  },
  {
   "cell_type": "code",
   "execution_count": null,
   "id": "dcd64087",
   "metadata": {},
   "outputs": [],
   "source": []
  },
  {
   "cell_type": "code",
   "execution_count": 4,
   "id": "48756e3d",
   "metadata": {},
   "outputs": [
    {
     "name": "stdout",
     "output_type": "stream",
     "text": [
      "How many orders would you like?: 3\n",
      "Which product?: book\n",
      "Which product?: t-shirt\n",
      "Which product?: keychain\n",
      "Number of Orders: 3\n",
      "Customer Orders: ['book', 't-shirt', 'keychain']\n"
     ]
    }
   ],
   "source": [
    "def get_customer_orders(products):\n",
    "    number_of_orders = int(input(\"How many orders would you like?: \"))\n",
    "    customer_orders = [input(\"Which product?: \") for i in range(number_of_orders)]\n",
    "    return customer_orders\n",
    "\n",
    "customer_orders = get_customer_orders(products)\n",
    "print(f\"Number of Orders: {len(customer_orders)}\")\n",
    "print(f\"Customer Orders: {customer_orders}\")"
   ]
  },
  {
   "cell_type": "code",
   "execution_count": null,
   "id": "6b73bddd",
   "metadata": {},
   "outputs": [],
   "source": []
  },
  {
   "cell_type": "code",
   "execution_count": 5,
   "id": "790ca7f9",
   "metadata": {},
   "outputs": [
    {
     "name": "stdout",
     "output_type": "stream",
     "text": [
      "Order Statistics:\n",
      "Total Products Ordered: 3\n",
      "Unique Products Ordered: 3\n",
      "Percentage of Unique Products Ordered: 60.0 %\n"
     ]
    }
   ],
   "source": [
    "def calculate_order_statistics(customer_orders,products):\n",
    "    return len(customer_orders), len(set(customer_orders)), f\"{len(set(customer_orders))/len(products)*100}%\" \n",
    "\n",
    "order_statistics = calculate_order_statistics(customer_orders,products)\n",
    "\n",
    "def print_order_statistics(order_statistics) :\n",
    "    print(\"Order Statistics:\\nTotal Products Ordered:\",len(customer_orders))\n",
    "    print(\"Unique Products Ordered:\",len(customer_orders))\n",
    "    print(\"Percentage of Unique Products Ordered:\",len(customer_orders)/len(products)*100,\"%\")\n",
    "    \n",
    "print_order_statistics(order_statistics)"
   ]
  },
  {
   "cell_type": "code",
   "execution_count": null,
   "id": "ae6b6b01",
   "metadata": {},
   "outputs": [],
   "source": []
  },
  {
   "cell_type": "code",
   "execution_count": 6,
   "id": "f69fbb10",
   "metadata": {},
   "outputs": [
    {
     "name": "stdout",
     "output_type": "stream",
     "text": [
      "Updated Inventory: {'mug': 1, 'hat': 1}\n"
     ]
    }
   ],
   "source": [
    "def update_inventory(customer_orders,inventory):\n",
    "    updated = {i: (v-1 if i in customer_orders else v) for (i,v) in inventory.items()}\n",
    "    updated_inventory = {i : v for i,v in updated.items() if v > 0 }\n",
    "    return updated_inventory\n",
    "\n",
    "print(\"Updated Inventory:\", update_inventory(customer_orders,inventory))"
   ]
  },
  {
   "cell_type": "code",
   "execution_count": null,
   "id": "f7f3f7e7",
   "metadata": {},
   "outputs": [],
   "source": []
  },
  {
   "cell_type": "code",
   "execution_count": 7,
   "id": "885c6688",
   "metadata": {},
   "outputs": [
    {
     "name": "stdout",
     "output_type": "stream",
     "text": [
      "Please enter the price of the book: 6\n",
      "Please enter the price of the t-shirt: 6\n",
      "Please enter the price of the keychain: 6\n",
      "The Total Price: 18\n"
     ]
    }
   ],
   "source": [
    "def total_price(customer_orders):\n",
    "    prices = {product: int(input(f\"Please enter the price of the {product}: \")) for product in customer_orders}\n",
    "    total_price = sum(prices.values())\n",
    "    return total_price\n",
    "print(\"The Total Price:\", total_price(customer_orders))"
   ]
  },
  {
   "cell_type": "code",
   "execution_count": null,
   "id": "c90a935b",
   "metadata": {},
   "outputs": [],
   "source": []
  }
 ],
 "metadata": {
  "kernelspec": {
   "display_name": "Python 3 (ipykernel)",
   "language": "python",
   "name": "python3"
  },
  "language_info": {
   "codemirror_mode": {
    "name": "ipython",
    "version": 3
   },
   "file_extension": ".py",
   "mimetype": "text/x-python",
   "name": "python",
   "nbconvert_exporter": "python",
   "pygments_lexer": "ipython3",
   "version": "3.10.9"
  }
 },
 "nbformat": 4,
 "nbformat_minor": 5
}
